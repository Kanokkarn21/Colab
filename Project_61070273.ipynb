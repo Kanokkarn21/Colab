{
  "nbformat": 4,
  "nbformat_minor": 0,
  "metadata": {
    "colab": {
      "name": "Project-61070273.ipynb",
      "provenance": [],
      "collapsed_sections": []
    },
    "kernelspec": {
      "name": "python3",
      "display_name": "Python 3"
    }
  },
  "cells": [
    {
      "cell_type": "markdown",
      "metadata": {
        "id": "2lAjYj91DNVr",
        "colab_type": "text"
      },
      "source": [
        "# **Thailand and the world at the Olympic Games**\n",
        "**การวิเคราะห์ข้อมูลของการแข่งขันโอลิมปิกใน 120 ปีที่ผ่าน รวมถึงวิเคราะห์ว่าประเทศไทยมีผลงานอย่างไรในโอลิมปิก**"
      ]
    },
    {
      "cell_type": "markdown",
      "metadata": {
        "id": "2rPs73K8DQ0i",
        "colab_type": "text"
      },
      "source": [
        "**นำเข้าข้อมูล**"
      ]
    },
    {
      "cell_type": "code",
      "metadata": {
        "id": "RTCfut5kCurW",
        "colab_type": "code",
        "colab": {
          "base_uri": "https://localhost:8080/",
          "height": 85
        },
        "outputId": "116c8c67-d4e1-44fd-dd3c-443352ab7272"
      },
      "source": [
        "pip install squarify"
      ],
      "execution_count": 1,
      "outputs": [
        {
          "output_type": "stream",
          "text": [
            "Collecting squarify\n",
            "  Downloading https://files.pythonhosted.org/packages/0b/2b/2e77c35326efec19819cd1d729540d4d235e6c2a3f37658288a363a67da5/squarify-0.4.3-py3-none-any.whl\n",
            "Installing collected packages: squarify\n",
            "Successfully installed squarify-0.4.3\n"
          ],
          "name": "stdout"
        }
      ]
    },
    {
      "cell_type": "code",
      "metadata": {
        "id": "GuNqd3ibDpWR",
        "colab_type": "code",
        "colab": {
          "base_uri": "https://localhost:8080/",
          "height": 204
        },
        "outputId": "273596a8-8bec-4977-d611-855d983c75df"
      },
      "source": [
        "import pandas as pd\n",
        "import numpy as np\n",
        "data = pd.read_csv('/content/drive/My Drive/120-years-of-olympic-history-athletes-and-results/athlete_events.csv')\n",
        "data.head()"
      ],
      "execution_count": 2,
      "outputs": [
        {
          "output_type": "execute_result",
          "data": {
            "text/html": [
              "<div>\n",
              "<style scoped>\n",
              "    .dataframe tbody tr th:only-of-type {\n",
              "        vertical-align: middle;\n",
              "    }\n",
              "\n",
              "    .dataframe tbody tr th {\n",
              "        vertical-align: top;\n",
              "    }\n",
              "\n",
              "    .dataframe thead th {\n",
              "        text-align: right;\n",
              "    }\n",
              "</style>\n",
              "<table border=\"1\" class=\"dataframe\">\n",
              "  <thead>\n",
              "    <tr style=\"text-align: right;\">\n",
              "      <th></th>\n",
              "      <th>ID</th>\n",
              "      <th>Name</th>\n",
              "      <th>Sex</th>\n",
              "      <th>Age</th>\n",
              "      <th>Height</th>\n",
              "      <th>Weight</th>\n",
              "      <th>Team</th>\n",
              "      <th>NOC</th>\n",
              "      <th>Games</th>\n",
              "      <th>Year</th>\n",
              "      <th>Season</th>\n",
              "      <th>City</th>\n",
              "      <th>Sport</th>\n",
              "      <th>Event</th>\n",
              "      <th>Medal</th>\n",
              "    </tr>\n",
              "  </thead>\n",
              "  <tbody>\n",
              "    <tr>\n",
              "      <th>0</th>\n",
              "      <td>1</td>\n",
              "      <td>A Dijiang</td>\n",
              "      <td>M</td>\n",
              "      <td>24.0</td>\n",
              "      <td>180.0</td>\n",
              "      <td>80.0</td>\n",
              "      <td>China</td>\n",
              "      <td>CHN</td>\n",
              "      <td>1992 Summer</td>\n",
              "      <td>1992</td>\n",
              "      <td>Summer</td>\n",
              "      <td>Barcelona</td>\n",
              "      <td>Basketball</td>\n",
              "      <td>Basketball Men's Basketball</td>\n",
              "      <td>NaN</td>\n",
              "    </tr>\n",
              "    <tr>\n",
              "      <th>1</th>\n",
              "      <td>2</td>\n",
              "      <td>A Lamusi</td>\n",
              "      <td>M</td>\n",
              "      <td>23.0</td>\n",
              "      <td>170.0</td>\n",
              "      <td>60.0</td>\n",
              "      <td>China</td>\n",
              "      <td>CHN</td>\n",
              "      <td>2012 Summer</td>\n",
              "      <td>2012</td>\n",
              "      <td>Summer</td>\n",
              "      <td>London</td>\n",
              "      <td>Judo</td>\n",
              "      <td>Judo Men's Extra-Lightweight</td>\n",
              "      <td>NaN</td>\n",
              "    </tr>\n",
              "    <tr>\n",
              "      <th>2</th>\n",
              "      <td>3</td>\n",
              "      <td>Gunnar Nielsen Aaby</td>\n",
              "      <td>M</td>\n",
              "      <td>24.0</td>\n",
              "      <td>NaN</td>\n",
              "      <td>NaN</td>\n",
              "      <td>Denmark</td>\n",
              "      <td>DEN</td>\n",
              "      <td>1920 Summer</td>\n",
              "      <td>1920</td>\n",
              "      <td>Summer</td>\n",
              "      <td>Antwerpen</td>\n",
              "      <td>Football</td>\n",
              "      <td>Football Men's Football</td>\n",
              "      <td>NaN</td>\n",
              "    </tr>\n",
              "    <tr>\n",
              "      <th>3</th>\n",
              "      <td>4</td>\n",
              "      <td>Edgar Lindenau Aabye</td>\n",
              "      <td>M</td>\n",
              "      <td>34.0</td>\n",
              "      <td>NaN</td>\n",
              "      <td>NaN</td>\n",
              "      <td>Denmark/Sweden</td>\n",
              "      <td>DEN</td>\n",
              "      <td>1900 Summer</td>\n",
              "      <td>1900</td>\n",
              "      <td>Summer</td>\n",
              "      <td>Paris</td>\n",
              "      <td>Tug-Of-War</td>\n",
              "      <td>Tug-Of-War Men's Tug-Of-War</td>\n",
              "      <td>Gold</td>\n",
              "    </tr>\n",
              "    <tr>\n",
              "      <th>4</th>\n",
              "      <td>5</td>\n",
              "      <td>Christine Jacoba Aaftink</td>\n",
              "      <td>F</td>\n",
              "      <td>21.0</td>\n",
              "      <td>185.0</td>\n",
              "      <td>82.0</td>\n",
              "      <td>Netherlands</td>\n",
              "      <td>NED</td>\n",
              "      <td>1988 Winter</td>\n",
              "      <td>1988</td>\n",
              "      <td>Winter</td>\n",
              "      <td>Calgary</td>\n",
              "      <td>Speed Skating</td>\n",
              "      <td>Speed Skating Women's 500 metres</td>\n",
              "      <td>NaN</td>\n",
              "    </tr>\n",
              "  </tbody>\n",
              "</table>\n",
              "</div>"
            ],
            "text/plain": [
              "   ID                      Name  ...                             Event  Medal\n",
              "0   1                 A Dijiang  ...       Basketball Men's Basketball    NaN\n",
              "1   2                  A Lamusi  ...      Judo Men's Extra-Lightweight    NaN\n",
              "2   3       Gunnar Nielsen Aaby  ...           Football Men's Football    NaN\n",
              "3   4      Edgar Lindenau Aabye  ...       Tug-Of-War Men's Tug-Of-War   Gold\n",
              "4   5  Christine Jacoba Aaftink  ...  Speed Skating Women's 500 metres    NaN\n",
              "\n",
              "[5 rows x 15 columns]"
            ]
          },
          "metadata": {
            "tags": []
          },
          "execution_count": 2
        }
      ]
    },
    {
      "cell_type": "code",
      "metadata": {
        "id": "uejc42MIDrzC",
        "colab_type": "code",
        "colab": {
          "base_uri": "https://localhost:8080/",
          "height": 555
        },
        "outputId": "70a3f5a8-fcb3-4d87-8eb2-24af0ce2ca0e"
      },
      "source": [
        "data"
      ],
      "execution_count": 3,
      "outputs": [
        {
          "output_type": "execute_result",
          "data": {
            "text/html": [
              "<div>\n",
              "<style scoped>\n",
              "    .dataframe tbody tr th:only-of-type {\n",
              "        vertical-align: middle;\n",
              "    }\n",
              "\n",
              "    .dataframe tbody tr th {\n",
              "        vertical-align: top;\n",
              "    }\n",
              "\n",
              "    .dataframe thead th {\n",
              "        text-align: right;\n",
              "    }\n",
              "</style>\n",
              "<table border=\"1\" class=\"dataframe\">\n",
              "  <thead>\n",
              "    <tr style=\"text-align: right;\">\n",
              "      <th></th>\n",
              "      <th>ID</th>\n",
              "      <th>Name</th>\n",
              "      <th>Sex</th>\n",
              "      <th>Age</th>\n",
              "      <th>Height</th>\n",
              "      <th>Weight</th>\n",
              "      <th>Team</th>\n",
              "      <th>NOC</th>\n",
              "      <th>Games</th>\n",
              "      <th>Year</th>\n",
              "      <th>Season</th>\n",
              "      <th>City</th>\n",
              "      <th>Sport</th>\n",
              "      <th>Event</th>\n",
              "      <th>Medal</th>\n",
              "    </tr>\n",
              "  </thead>\n",
              "  <tbody>\n",
              "    <tr>\n",
              "      <th>0</th>\n",
              "      <td>1</td>\n",
              "      <td>A Dijiang</td>\n",
              "      <td>M</td>\n",
              "      <td>24.0</td>\n",
              "      <td>180.0</td>\n",
              "      <td>80.0</td>\n",
              "      <td>China</td>\n",
              "      <td>CHN</td>\n",
              "      <td>1992 Summer</td>\n",
              "      <td>1992</td>\n",
              "      <td>Summer</td>\n",
              "      <td>Barcelona</td>\n",
              "      <td>Basketball</td>\n",
              "      <td>Basketball Men's Basketball</td>\n",
              "      <td>NaN</td>\n",
              "    </tr>\n",
              "    <tr>\n",
              "      <th>1</th>\n",
              "      <td>2</td>\n",
              "      <td>A Lamusi</td>\n",
              "      <td>M</td>\n",
              "      <td>23.0</td>\n",
              "      <td>170.0</td>\n",
              "      <td>60.0</td>\n",
              "      <td>China</td>\n",
              "      <td>CHN</td>\n",
              "      <td>2012 Summer</td>\n",
              "      <td>2012</td>\n",
              "      <td>Summer</td>\n",
              "      <td>London</td>\n",
              "      <td>Judo</td>\n",
              "      <td>Judo Men's Extra-Lightweight</td>\n",
              "      <td>NaN</td>\n",
              "    </tr>\n",
              "    <tr>\n",
              "      <th>2</th>\n",
              "      <td>3</td>\n",
              "      <td>Gunnar Nielsen Aaby</td>\n",
              "      <td>M</td>\n",
              "      <td>24.0</td>\n",
              "      <td>NaN</td>\n",
              "      <td>NaN</td>\n",
              "      <td>Denmark</td>\n",
              "      <td>DEN</td>\n",
              "      <td>1920 Summer</td>\n",
              "      <td>1920</td>\n",
              "      <td>Summer</td>\n",
              "      <td>Antwerpen</td>\n",
              "      <td>Football</td>\n",
              "      <td>Football Men's Football</td>\n",
              "      <td>NaN</td>\n",
              "    </tr>\n",
              "    <tr>\n",
              "      <th>3</th>\n",
              "      <td>4</td>\n",
              "      <td>Edgar Lindenau Aabye</td>\n",
              "      <td>M</td>\n",
              "      <td>34.0</td>\n",
              "      <td>NaN</td>\n",
              "      <td>NaN</td>\n",
              "      <td>Denmark/Sweden</td>\n",
              "      <td>DEN</td>\n",
              "      <td>1900 Summer</td>\n",
              "      <td>1900</td>\n",
              "      <td>Summer</td>\n",
              "      <td>Paris</td>\n",
              "      <td>Tug-Of-War</td>\n",
              "      <td>Tug-Of-War Men's Tug-Of-War</td>\n",
              "      <td>Gold</td>\n",
              "    </tr>\n",
              "    <tr>\n",
              "      <th>4</th>\n",
              "      <td>5</td>\n",
              "      <td>Christine Jacoba Aaftink</td>\n",
              "      <td>F</td>\n",
              "      <td>21.0</td>\n",
              "      <td>185.0</td>\n",
              "      <td>82.0</td>\n",
              "      <td>Netherlands</td>\n",
              "      <td>NED</td>\n",
              "      <td>1988 Winter</td>\n",
              "      <td>1988</td>\n",
              "      <td>Winter</td>\n",
              "      <td>Calgary</td>\n",
              "      <td>Speed Skating</td>\n",
              "      <td>Speed Skating Women's 500 metres</td>\n",
              "      <td>NaN</td>\n",
              "    </tr>\n",
              "    <tr>\n",
              "      <th>...</th>\n",
              "      <td>...</td>\n",
              "      <td>...</td>\n",
              "      <td>...</td>\n",
              "      <td>...</td>\n",
              "      <td>...</td>\n",
              "      <td>...</td>\n",
              "      <td>...</td>\n",
              "      <td>...</td>\n",
              "      <td>...</td>\n",
              "      <td>...</td>\n",
              "      <td>...</td>\n",
              "      <td>...</td>\n",
              "      <td>...</td>\n",
              "      <td>...</td>\n",
              "      <td>...</td>\n",
              "    </tr>\n",
              "    <tr>\n",
              "      <th>271111</th>\n",
              "      <td>135569</td>\n",
              "      <td>Andrzej ya</td>\n",
              "      <td>M</td>\n",
              "      <td>29.0</td>\n",
              "      <td>179.0</td>\n",
              "      <td>89.0</td>\n",
              "      <td>Poland-1</td>\n",
              "      <td>POL</td>\n",
              "      <td>1976 Winter</td>\n",
              "      <td>1976</td>\n",
              "      <td>Winter</td>\n",
              "      <td>Innsbruck</td>\n",
              "      <td>Luge</td>\n",
              "      <td>Luge Mixed (Men)'s Doubles</td>\n",
              "      <td>NaN</td>\n",
              "    </tr>\n",
              "    <tr>\n",
              "      <th>271112</th>\n",
              "      <td>135570</td>\n",
              "      <td>Piotr ya</td>\n",
              "      <td>M</td>\n",
              "      <td>27.0</td>\n",
              "      <td>176.0</td>\n",
              "      <td>59.0</td>\n",
              "      <td>Poland</td>\n",
              "      <td>POL</td>\n",
              "      <td>2014 Winter</td>\n",
              "      <td>2014</td>\n",
              "      <td>Winter</td>\n",
              "      <td>Sochi</td>\n",
              "      <td>Ski Jumping</td>\n",
              "      <td>Ski Jumping Men's Large Hill, Individual</td>\n",
              "      <td>NaN</td>\n",
              "    </tr>\n",
              "    <tr>\n",
              "      <th>271113</th>\n",
              "      <td>135570</td>\n",
              "      <td>Piotr ya</td>\n",
              "      <td>M</td>\n",
              "      <td>27.0</td>\n",
              "      <td>176.0</td>\n",
              "      <td>59.0</td>\n",
              "      <td>Poland</td>\n",
              "      <td>POL</td>\n",
              "      <td>2014 Winter</td>\n",
              "      <td>2014</td>\n",
              "      <td>Winter</td>\n",
              "      <td>Sochi</td>\n",
              "      <td>Ski Jumping</td>\n",
              "      <td>Ski Jumping Men's Large Hill, Team</td>\n",
              "      <td>NaN</td>\n",
              "    </tr>\n",
              "    <tr>\n",
              "      <th>271114</th>\n",
              "      <td>135571</td>\n",
              "      <td>Tomasz Ireneusz ya</td>\n",
              "      <td>M</td>\n",
              "      <td>30.0</td>\n",
              "      <td>185.0</td>\n",
              "      <td>96.0</td>\n",
              "      <td>Poland</td>\n",
              "      <td>POL</td>\n",
              "      <td>1998 Winter</td>\n",
              "      <td>1998</td>\n",
              "      <td>Winter</td>\n",
              "      <td>Nagano</td>\n",
              "      <td>Bobsleigh</td>\n",
              "      <td>Bobsleigh Men's Four</td>\n",
              "      <td>NaN</td>\n",
              "    </tr>\n",
              "    <tr>\n",
              "      <th>271115</th>\n",
              "      <td>135571</td>\n",
              "      <td>Tomasz Ireneusz ya</td>\n",
              "      <td>M</td>\n",
              "      <td>34.0</td>\n",
              "      <td>185.0</td>\n",
              "      <td>96.0</td>\n",
              "      <td>Poland</td>\n",
              "      <td>POL</td>\n",
              "      <td>2002 Winter</td>\n",
              "      <td>2002</td>\n",
              "      <td>Winter</td>\n",
              "      <td>Salt Lake City</td>\n",
              "      <td>Bobsleigh</td>\n",
              "      <td>Bobsleigh Men's Four</td>\n",
              "      <td>NaN</td>\n",
              "    </tr>\n",
              "  </tbody>\n",
              "</table>\n",
              "<p>271116 rows × 15 columns</p>\n",
              "</div>"
            ],
            "text/plain": [
              "            ID  ... Medal\n",
              "0            1  ...   NaN\n",
              "1            2  ...   NaN\n",
              "2            3  ...   NaN\n",
              "3            4  ...  Gold\n",
              "4            5  ...   NaN\n",
              "...        ...  ...   ...\n",
              "271111  135569  ...   NaN\n",
              "271112  135570  ...   NaN\n",
              "271113  135570  ...   NaN\n",
              "271114  135571  ...   NaN\n",
              "271115  135571  ...   NaN\n",
              "\n",
              "[271116 rows x 15 columns]"
            ]
          },
          "metadata": {
            "tags": []
          },
          "execution_count": 3
        }
      ]
    },
    {
      "cell_type": "code",
      "metadata": {
        "id": "TSg0QzrTDxI1",
        "colab_type": "code",
        "colab": {
          "base_uri": "https://localhost:8080/",
          "height": 204
        },
        "outputId": "17061750-654e-4851-8a7b-b29e647b5af2"
      },
      "source": [
        "import pandas as pd\n",
        "import numpy as np\n",
        "data2 = pd.read_csv('/content/drive/My Drive/120-years-of-olympic-history-athletes-and-results/noc_regions.csv')\n",
        "data2.head()"
      ],
      "execution_count": 4,
      "outputs": [
        {
          "output_type": "execute_result",
          "data": {
            "text/html": [
              "<div>\n",
              "<style scoped>\n",
              "    .dataframe tbody tr th:only-of-type {\n",
              "        vertical-align: middle;\n",
              "    }\n",
              "\n",
              "    .dataframe tbody tr th {\n",
              "        vertical-align: top;\n",
              "    }\n",
              "\n",
              "    .dataframe thead th {\n",
              "        text-align: right;\n",
              "    }\n",
              "</style>\n",
              "<table border=\"1\" class=\"dataframe\">\n",
              "  <thead>\n",
              "    <tr style=\"text-align: right;\">\n",
              "      <th></th>\n",
              "      <th>NOC</th>\n",
              "      <th>region</th>\n",
              "      <th>notes</th>\n",
              "    </tr>\n",
              "  </thead>\n",
              "  <tbody>\n",
              "    <tr>\n",
              "      <th>0</th>\n",
              "      <td>AFG</td>\n",
              "      <td>Afghanistan</td>\n",
              "      <td>NaN</td>\n",
              "    </tr>\n",
              "    <tr>\n",
              "      <th>1</th>\n",
              "      <td>AHO</td>\n",
              "      <td>Curacao</td>\n",
              "      <td>Netherlands Antilles</td>\n",
              "    </tr>\n",
              "    <tr>\n",
              "      <th>2</th>\n",
              "      <td>ALB</td>\n",
              "      <td>Albania</td>\n",
              "      <td>NaN</td>\n",
              "    </tr>\n",
              "    <tr>\n",
              "      <th>3</th>\n",
              "      <td>ALG</td>\n",
              "      <td>Algeria</td>\n",
              "      <td>NaN</td>\n",
              "    </tr>\n",
              "    <tr>\n",
              "      <th>4</th>\n",
              "      <td>AND</td>\n",
              "      <td>Andorra</td>\n",
              "      <td>NaN</td>\n",
              "    </tr>\n",
              "  </tbody>\n",
              "</table>\n",
              "</div>"
            ],
            "text/plain": [
              "   NOC       region                 notes\n",
              "0  AFG  Afghanistan                   NaN\n",
              "1  AHO      Curacao  Netherlands Antilles\n",
              "2  ALB      Albania                   NaN\n",
              "3  ALG      Algeria                   NaN\n",
              "4  AND      Andorra                   NaN"
            ]
          },
          "metadata": {
            "tags": []
          },
          "execution_count": 4
        }
      ]
    },
    {
      "cell_type": "code",
      "metadata": {
        "id": "Ql_zStGmD22J",
        "colab_type": "code",
        "colab": {
          "base_uri": "https://localhost:8080/",
          "height": 419
        },
        "outputId": "b5863f0c-95b1-43d2-be67-fd7672a65cd5"
      },
      "source": [
        "data2"
      ],
      "execution_count": 5,
      "outputs": [
        {
          "output_type": "execute_result",
          "data": {
            "text/html": [
              "<div>\n",
              "<style scoped>\n",
              "    .dataframe tbody tr th:only-of-type {\n",
              "        vertical-align: middle;\n",
              "    }\n",
              "\n",
              "    .dataframe tbody tr th {\n",
              "        vertical-align: top;\n",
              "    }\n",
              "\n",
              "    .dataframe thead th {\n",
              "        text-align: right;\n",
              "    }\n",
              "</style>\n",
              "<table border=\"1\" class=\"dataframe\">\n",
              "  <thead>\n",
              "    <tr style=\"text-align: right;\">\n",
              "      <th></th>\n",
              "      <th>NOC</th>\n",
              "      <th>region</th>\n",
              "      <th>notes</th>\n",
              "    </tr>\n",
              "  </thead>\n",
              "  <tbody>\n",
              "    <tr>\n",
              "      <th>0</th>\n",
              "      <td>AFG</td>\n",
              "      <td>Afghanistan</td>\n",
              "      <td>NaN</td>\n",
              "    </tr>\n",
              "    <tr>\n",
              "      <th>1</th>\n",
              "      <td>AHO</td>\n",
              "      <td>Curacao</td>\n",
              "      <td>Netherlands Antilles</td>\n",
              "    </tr>\n",
              "    <tr>\n",
              "      <th>2</th>\n",
              "      <td>ALB</td>\n",
              "      <td>Albania</td>\n",
              "      <td>NaN</td>\n",
              "    </tr>\n",
              "    <tr>\n",
              "      <th>3</th>\n",
              "      <td>ALG</td>\n",
              "      <td>Algeria</td>\n",
              "      <td>NaN</td>\n",
              "    </tr>\n",
              "    <tr>\n",
              "      <th>4</th>\n",
              "      <td>AND</td>\n",
              "      <td>Andorra</td>\n",
              "      <td>NaN</td>\n",
              "    </tr>\n",
              "    <tr>\n",
              "      <th>...</th>\n",
              "      <td>...</td>\n",
              "      <td>...</td>\n",
              "      <td>...</td>\n",
              "    </tr>\n",
              "    <tr>\n",
              "      <th>225</th>\n",
              "      <td>YEM</td>\n",
              "      <td>Yemen</td>\n",
              "      <td>NaN</td>\n",
              "    </tr>\n",
              "    <tr>\n",
              "      <th>226</th>\n",
              "      <td>YMD</td>\n",
              "      <td>Yemen</td>\n",
              "      <td>South Yemen</td>\n",
              "    </tr>\n",
              "    <tr>\n",
              "      <th>227</th>\n",
              "      <td>YUG</td>\n",
              "      <td>Serbia</td>\n",
              "      <td>Yugoslavia</td>\n",
              "    </tr>\n",
              "    <tr>\n",
              "      <th>228</th>\n",
              "      <td>ZAM</td>\n",
              "      <td>Zambia</td>\n",
              "      <td>NaN</td>\n",
              "    </tr>\n",
              "    <tr>\n",
              "      <th>229</th>\n",
              "      <td>ZIM</td>\n",
              "      <td>Zimbabwe</td>\n",
              "      <td>NaN</td>\n",
              "    </tr>\n",
              "  </tbody>\n",
              "</table>\n",
              "<p>230 rows × 3 columns</p>\n",
              "</div>"
            ],
            "text/plain": [
              "     NOC       region                 notes\n",
              "0    AFG  Afghanistan                   NaN\n",
              "1    AHO      Curacao  Netherlands Antilles\n",
              "2    ALB      Albania                   NaN\n",
              "3    ALG      Algeria                   NaN\n",
              "4    AND      Andorra                   NaN\n",
              "..   ...          ...                   ...\n",
              "225  YEM        Yemen                   NaN\n",
              "226  YMD        Yemen           South Yemen\n",
              "227  YUG       Serbia            Yugoslavia\n",
              "228  ZAM       Zambia                   NaN\n",
              "229  ZIM     Zimbabwe                   NaN\n",
              "\n",
              "[230 rows x 3 columns]"
            ]
          },
          "metadata": {
            "tags": []
          },
          "execution_count": 5
        }
      ]
    },
    {
      "cell_type": "markdown",
      "metadata": {
        "id": "rtdMdnTcD8y4",
        "colab_type": "text"
      },
      "source": [
        "**รวม athlete_events.csv กับ noc_regions.csv เข้าด้วยกัน**"
      ]
    },
    {
      "cell_type": "code",
      "metadata": {
        "id": "dQYQ_HHTD8WL",
        "colab_type": "code",
        "colab": {
          "base_uri": "https://localhost:8080/",
          "height": 142
        },
        "outputId": "9af37b33-32af-4814-9ca5-8c77fa6b8c39"
      },
      "source": [
        "olp_data=data.merge(data2,on='NOC',how='left')\n",
        "olp_data.head(n=3)"
      ],
      "execution_count": 6,
      "outputs": [
        {
          "output_type": "execute_result",
          "data": {
            "text/html": [
              "<div>\n",
              "<style scoped>\n",
              "    .dataframe tbody tr th:only-of-type {\n",
              "        vertical-align: middle;\n",
              "    }\n",
              "\n",
              "    .dataframe tbody tr th {\n",
              "        vertical-align: top;\n",
              "    }\n",
              "\n",
              "    .dataframe thead th {\n",
              "        text-align: right;\n",
              "    }\n",
              "</style>\n",
              "<table border=\"1\" class=\"dataframe\">\n",
              "  <thead>\n",
              "    <tr style=\"text-align: right;\">\n",
              "      <th></th>\n",
              "      <th>ID</th>\n",
              "      <th>Name</th>\n",
              "      <th>Sex</th>\n",
              "      <th>Age</th>\n",
              "      <th>Height</th>\n",
              "      <th>Weight</th>\n",
              "      <th>Team</th>\n",
              "      <th>NOC</th>\n",
              "      <th>Games</th>\n",
              "      <th>Year</th>\n",
              "      <th>Season</th>\n",
              "      <th>City</th>\n",
              "      <th>Sport</th>\n",
              "      <th>Event</th>\n",
              "      <th>Medal</th>\n",
              "      <th>region</th>\n",
              "      <th>notes</th>\n",
              "    </tr>\n",
              "  </thead>\n",
              "  <tbody>\n",
              "    <tr>\n",
              "      <th>0</th>\n",
              "      <td>1</td>\n",
              "      <td>A Dijiang</td>\n",
              "      <td>M</td>\n",
              "      <td>24.0</td>\n",
              "      <td>180.0</td>\n",
              "      <td>80.0</td>\n",
              "      <td>China</td>\n",
              "      <td>CHN</td>\n",
              "      <td>1992 Summer</td>\n",
              "      <td>1992</td>\n",
              "      <td>Summer</td>\n",
              "      <td>Barcelona</td>\n",
              "      <td>Basketball</td>\n",
              "      <td>Basketball Men's Basketball</td>\n",
              "      <td>NaN</td>\n",
              "      <td>China</td>\n",
              "      <td>NaN</td>\n",
              "    </tr>\n",
              "    <tr>\n",
              "      <th>1</th>\n",
              "      <td>2</td>\n",
              "      <td>A Lamusi</td>\n",
              "      <td>M</td>\n",
              "      <td>23.0</td>\n",
              "      <td>170.0</td>\n",
              "      <td>60.0</td>\n",
              "      <td>China</td>\n",
              "      <td>CHN</td>\n",
              "      <td>2012 Summer</td>\n",
              "      <td>2012</td>\n",
              "      <td>Summer</td>\n",
              "      <td>London</td>\n",
              "      <td>Judo</td>\n",
              "      <td>Judo Men's Extra-Lightweight</td>\n",
              "      <td>NaN</td>\n",
              "      <td>China</td>\n",
              "      <td>NaN</td>\n",
              "    </tr>\n",
              "    <tr>\n",
              "      <th>2</th>\n",
              "      <td>3</td>\n",
              "      <td>Gunnar Nielsen Aaby</td>\n",
              "      <td>M</td>\n",
              "      <td>24.0</td>\n",
              "      <td>NaN</td>\n",
              "      <td>NaN</td>\n",
              "      <td>Denmark</td>\n",
              "      <td>DEN</td>\n",
              "      <td>1920 Summer</td>\n",
              "      <td>1920</td>\n",
              "      <td>Summer</td>\n",
              "      <td>Antwerpen</td>\n",
              "      <td>Football</td>\n",
              "      <td>Football Men's Football</td>\n",
              "      <td>NaN</td>\n",
              "      <td>Denmark</td>\n",
              "      <td>NaN</td>\n",
              "    </tr>\n",
              "  </tbody>\n",
              "</table>\n",
              "</div>"
            ],
            "text/plain": [
              "   ID                 Name Sex  ...  Medal   region  notes\n",
              "0   1            A Dijiang   M  ...    NaN    China    NaN\n",
              "1   2             A Lamusi   M  ...    NaN    China    NaN\n",
              "2   3  Gunnar Nielsen Aaby   M  ...    NaN  Denmark    NaN\n",
              "\n",
              "[3 rows x 17 columns]"
            ]
          },
          "metadata": {
            "tags": []
          },
          "execution_count": 6
        }
      ]
    },
    {
      "cell_type": "code",
      "metadata": {
        "id": "yVpJmwczEHrt",
        "colab_type": "code",
        "colab": {
          "base_uri": "https://localhost:8080/",
          "height": 589
        },
        "outputId": "cec54879-899c-4842-f0b6-9d0defb521bf"
      },
      "source": [
        "olp_data"
      ],
      "execution_count": 7,
      "outputs": [
        {
          "output_type": "execute_result",
          "data": {
            "text/html": [
              "<div>\n",
              "<style scoped>\n",
              "    .dataframe tbody tr th:only-of-type {\n",
              "        vertical-align: middle;\n",
              "    }\n",
              "\n",
              "    .dataframe tbody tr th {\n",
              "        vertical-align: top;\n",
              "    }\n",
              "\n",
              "    .dataframe thead th {\n",
              "        text-align: right;\n",
              "    }\n",
              "</style>\n",
              "<table border=\"1\" class=\"dataframe\">\n",
              "  <thead>\n",
              "    <tr style=\"text-align: right;\">\n",
              "      <th></th>\n",
              "      <th>ID</th>\n",
              "      <th>Name</th>\n",
              "      <th>Sex</th>\n",
              "      <th>Age</th>\n",
              "      <th>Height</th>\n",
              "      <th>Weight</th>\n",
              "      <th>Team</th>\n",
              "      <th>NOC</th>\n",
              "      <th>Games</th>\n",
              "      <th>Year</th>\n",
              "      <th>Season</th>\n",
              "      <th>City</th>\n",
              "      <th>Sport</th>\n",
              "      <th>Event</th>\n",
              "      <th>Medal</th>\n",
              "      <th>region</th>\n",
              "      <th>notes</th>\n",
              "    </tr>\n",
              "  </thead>\n",
              "  <tbody>\n",
              "    <tr>\n",
              "      <th>0</th>\n",
              "      <td>1</td>\n",
              "      <td>A Dijiang</td>\n",
              "      <td>M</td>\n",
              "      <td>24.0</td>\n",
              "      <td>180.0</td>\n",
              "      <td>80.0</td>\n",
              "      <td>China</td>\n",
              "      <td>CHN</td>\n",
              "      <td>1992 Summer</td>\n",
              "      <td>1992</td>\n",
              "      <td>Summer</td>\n",
              "      <td>Barcelona</td>\n",
              "      <td>Basketball</td>\n",
              "      <td>Basketball Men's Basketball</td>\n",
              "      <td>NaN</td>\n",
              "      <td>China</td>\n",
              "      <td>NaN</td>\n",
              "    </tr>\n",
              "    <tr>\n",
              "      <th>1</th>\n",
              "      <td>2</td>\n",
              "      <td>A Lamusi</td>\n",
              "      <td>M</td>\n",
              "      <td>23.0</td>\n",
              "      <td>170.0</td>\n",
              "      <td>60.0</td>\n",
              "      <td>China</td>\n",
              "      <td>CHN</td>\n",
              "      <td>2012 Summer</td>\n",
              "      <td>2012</td>\n",
              "      <td>Summer</td>\n",
              "      <td>London</td>\n",
              "      <td>Judo</td>\n",
              "      <td>Judo Men's Extra-Lightweight</td>\n",
              "      <td>NaN</td>\n",
              "      <td>China</td>\n",
              "      <td>NaN</td>\n",
              "    </tr>\n",
              "    <tr>\n",
              "      <th>2</th>\n",
              "      <td>3</td>\n",
              "      <td>Gunnar Nielsen Aaby</td>\n",
              "      <td>M</td>\n",
              "      <td>24.0</td>\n",
              "      <td>NaN</td>\n",
              "      <td>NaN</td>\n",
              "      <td>Denmark</td>\n",
              "      <td>DEN</td>\n",
              "      <td>1920 Summer</td>\n",
              "      <td>1920</td>\n",
              "      <td>Summer</td>\n",
              "      <td>Antwerpen</td>\n",
              "      <td>Football</td>\n",
              "      <td>Football Men's Football</td>\n",
              "      <td>NaN</td>\n",
              "      <td>Denmark</td>\n",
              "      <td>NaN</td>\n",
              "    </tr>\n",
              "    <tr>\n",
              "      <th>3</th>\n",
              "      <td>4</td>\n",
              "      <td>Edgar Lindenau Aabye</td>\n",
              "      <td>M</td>\n",
              "      <td>34.0</td>\n",
              "      <td>NaN</td>\n",
              "      <td>NaN</td>\n",
              "      <td>Denmark/Sweden</td>\n",
              "      <td>DEN</td>\n",
              "      <td>1900 Summer</td>\n",
              "      <td>1900</td>\n",
              "      <td>Summer</td>\n",
              "      <td>Paris</td>\n",
              "      <td>Tug-Of-War</td>\n",
              "      <td>Tug-Of-War Men's Tug-Of-War</td>\n",
              "      <td>Gold</td>\n",
              "      <td>Denmark</td>\n",
              "      <td>NaN</td>\n",
              "    </tr>\n",
              "    <tr>\n",
              "      <th>4</th>\n",
              "      <td>5</td>\n",
              "      <td>Christine Jacoba Aaftink</td>\n",
              "      <td>F</td>\n",
              "      <td>21.0</td>\n",
              "      <td>185.0</td>\n",
              "      <td>82.0</td>\n",
              "      <td>Netherlands</td>\n",
              "      <td>NED</td>\n",
              "      <td>1988 Winter</td>\n",
              "      <td>1988</td>\n",
              "      <td>Winter</td>\n",
              "      <td>Calgary</td>\n",
              "      <td>Speed Skating</td>\n",
              "      <td>Speed Skating Women's 500 metres</td>\n",
              "      <td>NaN</td>\n",
              "      <td>Netherlands</td>\n",
              "      <td>NaN</td>\n",
              "    </tr>\n",
              "    <tr>\n",
              "      <th>...</th>\n",
              "      <td>...</td>\n",
              "      <td>...</td>\n",
              "      <td>...</td>\n",
              "      <td>...</td>\n",
              "      <td>...</td>\n",
              "      <td>...</td>\n",
              "      <td>...</td>\n",
              "      <td>...</td>\n",
              "      <td>...</td>\n",
              "      <td>...</td>\n",
              "      <td>...</td>\n",
              "      <td>...</td>\n",
              "      <td>...</td>\n",
              "      <td>...</td>\n",
              "      <td>...</td>\n",
              "      <td>...</td>\n",
              "      <td>...</td>\n",
              "    </tr>\n",
              "    <tr>\n",
              "      <th>271111</th>\n",
              "      <td>135569</td>\n",
              "      <td>Andrzej ya</td>\n",
              "      <td>M</td>\n",
              "      <td>29.0</td>\n",
              "      <td>179.0</td>\n",
              "      <td>89.0</td>\n",
              "      <td>Poland-1</td>\n",
              "      <td>POL</td>\n",
              "      <td>1976 Winter</td>\n",
              "      <td>1976</td>\n",
              "      <td>Winter</td>\n",
              "      <td>Innsbruck</td>\n",
              "      <td>Luge</td>\n",
              "      <td>Luge Mixed (Men)'s Doubles</td>\n",
              "      <td>NaN</td>\n",
              "      <td>Poland</td>\n",
              "      <td>NaN</td>\n",
              "    </tr>\n",
              "    <tr>\n",
              "      <th>271112</th>\n",
              "      <td>135570</td>\n",
              "      <td>Piotr ya</td>\n",
              "      <td>M</td>\n",
              "      <td>27.0</td>\n",
              "      <td>176.0</td>\n",
              "      <td>59.0</td>\n",
              "      <td>Poland</td>\n",
              "      <td>POL</td>\n",
              "      <td>2014 Winter</td>\n",
              "      <td>2014</td>\n",
              "      <td>Winter</td>\n",
              "      <td>Sochi</td>\n",
              "      <td>Ski Jumping</td>\n",
              "      <td>Ski Jumping Men's Large Hill, Individual</td>\n",
              "      <td>NaN</td>\n",
              "      <td>Poland</td>\n",
              "      <td>NaN</td>\n",
              "    </tr>\n",
              "    <tr>\n",
              "      <th>271113</th>\n",
              "      <td>135570</td>\n",
              "      <td>Piotr ya</td>\n",
              "      <td>M</td>\n",
              "      <td>27.0</td>\n",
              "      <td>176.0</td>\n",
              "      <td>59.0</td>\n",
              "      <td>Poland</td>\n",
              "      <td>POL</td>\n",
              "      <td>2014 Winter</td>\n",
              "      <td>2014</td>\n",
              "      <td>Winter</td>\n",
              "      <td>Sochi</td>\n",
              "      <td>Ski Jumping</td>\n",
              "      <td>Ski Jumping Men's Large Hill, Team</td>\n",
              "      <td>NaN</td>\n",
              "      <td>Poland</td>\n",
              "      <td>NaN</td>\n",
              "    </tr>\n",
              "    <tr>\n",
              "      <th>271114</th>\n",
              "      <td>135571</td>\n",
              "      <td>Tomasz Ireneusz ya</td>\n",
              "      <td>M</td>\n",
              "      <td>30.0</td>\n",
              "      <td>185.0</td>\n",
              "      <td>96.0</td>\n",
              "      <td>Poland</td>\n",
              "      <td>POL</td>\n",
              "      <td>1998 Winter</td>\n",
              "      <td>1998</td>\n",
              "      <td>Winter</td>\n",
              "      <td>Nagano</td>\n",
              "      <td>Bobsleigh</td>\n",
              "      <td>Bobsleigh Men's Four</td>\n",
              "      <td>NaN</td>\n",
              "      <td>Poland</td>\n",
              "      <td>NaN</td>\n",
              "    </tr>\n",
              "    <tr>\n",
              "      <th>271115</th>\n",
              "      <td>135571</td>\n",
              "      <td>Tomasz Ireneusz ya</td>\n",
              "      <td>M</td>\n",
              "      <td>34.0</td>\n",
              "      <td>185.0</td>\n",
              "      <td>96.0</td>\n",
              "      <td>Poland</td>\n",
              "      <td>POL</td>\n",
              "      <td>2002 Winter</td>\n",
              "      <td>2002</td>\n",
              "      <td>Winter</td>\n",
              "      <td>Salt Lake City</td>\n",
              "      <td>Bobsleigh</td>\n",
              "      <td>Bobsleigh Men's Four</td>\n",
              "      <td>NaN</td>\n",
              "      <td>Poland</td>\n",
              "      <td>NaN</td>\n",
              "    </tr>\n",
              "  </tbody>\n",
              "</table>\n",
              "<p>271116 rows × 17 columns</p>\n",
              "</div>"
            ],
            "text/plain": [
              "            ID                      Name Sex  ...  Medal       region  notes\n",
              "0            1                 A Dijiang   M  ...    NaN        China    NaN\n",
              "1            2                  A Lamusi   M  ...    NaN        China    NaN\n",
              "2            3       Gunnar Nielsen Aaby   M  ...    NaN      Denmark    NaN\n",
              "3            4      Edgar Lindenau Aabye   M  ...   Gold      Denmark    NaN\n",
              "4            5  Christine Jacoba Aaftink   F  ...    NaN  Netherlands    NaN\n",
              "...        ...                       ...  ..  ...    ...          ...    ...\n",
              "271111  135569                Andrzej ya   M  ...    NaN       Poland    NaN\n",
              "271112  135570                  Piotr ya   M  ...    NaN       Poland    NaN\n",
              "271113  135570                  Piotr ya   M  ...    NaN       Poland    NaN\n",
              "271114  135571        Tomasz Ireneusz ya   M  ...    NaN       Poland    NaN\n",
              "271115  135571        Tomasz Ireneusz ya   M  ...    NaN       Poland    NaN\n",
              "\n",
              "[271116 rows x 17 columns]"
            ]
          },
          "metadata": {
            "tags": []
          },
          "execution_count": 7
        }
      ]
    },
    {
      "cell_type": "markdown",
      "metadata": {
        "id": "bpBnF1OYEO0l",
        "colab_type": "text"
      },
      "source": [
        "**ค้นหาปีที่มีการจัดกีฬาโอลิมปิก**"
      ]
    },
    {
      "cell_type": "code",
      "metadata": {
        "id": "ZfHDeC6dEP75",
        "colab_type": "code",
        "colab": {
          "base_uri": "https://localhost:8080/",
          "height": 102
        },
        "outputId": "0bfca73f-93a1-4fcb-bee6-92cad9433b48"
      },
      "source": [
        "print('โอลิมปิกฤดูร้อน :',np.array(sorted(data[data['Season']=='Summer']['Year'].unique())))\n",
        "print('โอลิมปิกฤดูหนาว :',np.array(sorted(data[data['Season']=='Winter']['Year'].unique())))"
      ],
      "execution_count": 8,
      "outputs": [
        {
          "output_type": "stream",
          "text": [
            "โอลิมปิกฤดูร้อน : [1896 1900 1904 1906 1908 1912 1920 1924 1928 1932 1936 1948 1952 1956\n",
            " 1960 1964 1968 1972 1976 1980 1984 1988 1992 1996 2000 2004 2008 2012\n",
            " 2016]\n",
            "โอลิมปิกฤดูหนาว : [1924 1928 1932 1936 1948 1952 1956 1960 1964 1968 1972 1976 1980 1984\n",
            " 1988 1992 1994 1998 2002 2006 2010 2014]\n"
          ],
          "name": "stdout"
        }
      ]
    },
    {
      "cell_type": "markdown",
      "metadata": {
        "id": "uXxRII0IEdWY",
        "colab_type": "text"
      },
      "source": [
        "**ค้นหาเมืองที่เป็นเจ้าบ้านเกมกีฬาโอลิมปิก**"
      ]
    },
    {
      "cell_type": "code",
      "metadata": {
        "id": "jogFEVuqEenH",
        "colab_type": "code",
        "colab": {
          "base_uri": "https://localhost:8080/",
          "height": 1000
        },
        "outputId": "164a2c1a-0b15-4787-bf69-e81c79315f0e"
      },
      "source": [
        "Cities=data.groupby('City').apply(lambda x:x['Year'].unique()).to_frame().reset_index()\n",
        "Cities.columns=['City','Years']\n",
        "Cities['Occurence']=[len(c) for c in Cities['Years']]\n",
        "Cities.sort_values('Occurence',ascending=False)"
      ],
      "execution_count": 9,
      "outputs": [
        {
          "output_type": "execute_result",
          "data": {
            "text/html": [
              "<div>\n",
              "<style scoped>\n",
              "    .dataframe tbody tr th:only-of-type {\n",
              "        vertical-align: middle;\n",
              "    }\n",
              "\n",
              "    .dataframe tbody tr th {\n",
              "        vertical-align: top;\n",
              "    }\n",
              "\n",
              "    .dataframe thead th {\n",
              "        text-align: right;\n",
              "    }\n",
              "</style>\n",
              "<table border=\"1\" class=\"dataframe\">\n",
              "  <thead>\n",
              "    <tr style=\"text-align: right;\">\n",
              "      <th></th>\n",
              "      <th>City</th>\n",
              "      <th>Years</th>\n",
              "      <th>Occurence</th>\n",
              "    </tr>\n",
              "  </thead>\n",
              "  <tbody>\n",
              "    <tr>\n",
              "      <th>3</th>\n",
              "      <td>Athina</td>\n",
              "      <td>[2004, 1906, 1896]</td>\n",
              "      <td>3</td>\n",
              "    </tr>\n",
              "    <tr>\n",
              "      <th>17</th>\n",
              "      <td>London</td>\n",
              "      <td>[2012, 1948, 1908]</td>\n",
              "      <td>3</td>\n",
              "    </tr>\n",
              "    <tr>\n",
              "      <th>30</th>\n",
              "      <td>Sankt Moritz</td>\n",
              "      <td>[1928, 1948]</td>\n",
              "      <td>2</td>\n",
              "    </tr>\n",
              "    <tr>\n",
              "      <th>26</th>\n",
              "      <td>Paris</td>\n",
              "      <td>[1900, 1924]</td>\n",
              "      <td>2</td>\n",
              "    </tr>\n",
              "    <tr>\n",
              "      <th>37</th>\n",
              "      <td>Stockholm</td>\n",
              "      <td>[1912, 1956]</td>\n",
              "      <td>2</td>\n",
              "    </tr>\n",
              "    <tr>\n",
              "      <th>18</th>\n",
              "      <td>Los Angeles</td>\n",
              "      <td>[1932, 1984]</td>\n",
              "      <td>2</td>\n",
              "    </tr>\n",
              "    <tr>\n",
              "      <th>15</th>\n",
              "      <td>Lake Placid</td>\n",
              "      <td>[1980, 1932]</td>\n",
              "      <td>2</td>\n",
              "    </tr>\n",
              "    <tr>\n",
              "      <th>14</th>\n",
              "      <td>Innsbruck</td>\n",
              "      <td>[1964, 1976]</td>\n",
              "      <td>2</td>\n",
              "    </tr>\n",
              "    <tr>\n",
              "      <th>0</th>\n",
              "      <td>Albertville</td>\n",
              "      <td>[1992]</td>\n",
              "      <td>1</td>\n",
              "    </tr>\n",
              "    <tr>\n",
              "      <th>27</th>\n",
              "      <td>Rio de Janeiro</td>\n",
              "      <td>[2016]</td>\n",
              "      <td>1</td>\n",
              "    </tr>\n",
              "    <tr>\n",
              "      <th>28</th>\n",
              "      <td>Roma</td>\n",
              "      <td>[1960]</td>\n",
              "      <td>1</td>\n",
              "    </tr>\n",
              "    <tr>\n",
              "      <th>29</th>\n",
              "      <td>Salt Lake City</td>\n",
              "      <td>[2002]</td>\n",
              "      <td>1</td>\n",
              "    </tr>\n",
              "    <tr>\n",
              "      <th>32</th>\n",
              "      <td>Sarajevo</td>\n",
              "      <td>[1984]</td>\n",
              "      <td>1</td>\n",
              "    </tr>\n",
              "    <tr>\n",
              "      <th>31</th>\n",
              "      <td>Sapporo</td>\n",
              "      <td>[1972]</td>\n",
              "      <td>1</td>\n",
              "    </tr>\n",
              "    <tr>\n",
              "      <th>24</th>\n",
              "      <td>Nagano</td>\n",
              "      <td>[1998]</td>\n",
              "      <td>1</td>\n",
              "    </tr>\n",
              "    <tr>\n",
              "      <th>33</th>\n",
              "      <td>Seoul</td>\n",
              "      <td>[1988]</td>\n",
              "      <td>1</td>\n",
              "    </tr>\n",
              "    <tr>\n",
              "      <th>34</th>\n",
              "      <td>Sochi</td>\n",
              "      <td>[2014]</td>\n",
              "      <td>1</td>\n",
              "    </tr>\n",
              "    <tr>\n",
              "      <th>35</th>\n",
              "      <td>Squaw Valley</td>\n",
              "      <td>[1960]</td>\n",
              "      <td>1</td>\n",
              "    </tr>\n",
              "    <tr>\n",
              "      <th>36</th>\n",
              "      <td>St. Louis</td>\n",
              "      <td>[1904]</td>\n",
              "      <td>1</td>\n",
              "    </tr>\n",
              "    <tr>\n",
              "      <th>38</th>\n",
              "      <td>Sydney</td>\n",
              "      <td>[2000]</td>\n",
              "      <td>1</td>\n",
              "    </tr>\n",
              "    <tr>\n",
              "      <th>39</th>\n",
              "      <td>Tokyo</td>\n",
              "      <td>[1964]</td>\n",
              "      <td>1</td>\n",
              "    </tr>\n",
              "    <tr>\n",
              "      <th>40</th>\n",
              "      <td>Torino</td>\n",
              "      <td>[2006]</td>\n",
              "      <td>1</td>\n",
              "    </tr>\n",
              "    <tr>\n",
              "      <th>25</th>\n",
              "      <td>Oslo</td>\n",
              "      <td>[1952]</td>\n",
              "      <td>1</td>\n",
              "    </tr>\n",
              "    <tr>\n",
              "      <th>21</th>\n",
              "      <td>Montreal</td>\n",
              "      <td>[1976]</td>\n",
              "      <td>1</td>\n",
              "    </tr>\n",
              "    <tr>\n",
              "      <th>23</th>\n",
              "      <td>Munich</td>\n",
              "      <td>[1972]</td>\n",
              "      <td>1</td>\n",
              "    </tr>\n",
              "    <tr>\n",
              "      <th>22</th>\n",
              "      <td>Moskva</td>\n",
              "      <td>[1980]</td>\n",
              "      <td>1</td>\n",
              "    </tr>\n",
              "    <tr>\n",
              "      <th>2</th>\n",
              "      <td>Antwerpen</td>\n",
              "      <td>[1920]</td>\n",
              "      <td>1</td>\n",
              "    </tr>\n",
              "    <tr>\n",
              "      <th>4</th>\n",
              "      <td>Atlanta</td>\n",
              "      <td>[1996]</td>\n",
              "      <td>1</td>\n",
              "    </tr>\n",
              "    <tr>\n",
              "      <th>5</th>\n",
              "      <td>Barcelona</td>\n",
              "      <td>[1992]</td>\n",
              "      <td>1</td>\n",
              "    </tr>\n",
              "    <tr>\n",
              "      <th>6</th>\n",
              "      <td>Beijing</td>\n",
              "      <td>[2008]</td>\n",
              "      <td>1</td>\n",
              "    </tr>\n",
              "    <tr>\n",
              "      <th>7</th>\n",
              "      <td>Berlin</td>\n",
              "      <td>[1936]</td>\n",
              "      <td>1</td>\n",
              "    </tr>\n",
              "    <tr>\n",
              "      <th>8</th>\n",
              "      <td>Calgary</td>\n",
              "      <td>[1988]</td>\n",
              "      <td>1</td>\n",
              "    </tr>\n",
              "    <tr>\n",
              "      <th>9</th>\n",
              "      <td>Chamonix</td>\n",
              "      <td>[1924]</td>\n",
              "      <td>1</td>\n",
              "    </tr>\n",
              "    <tr>\n",
              "      <th>10</th>\n",
              "      <td>Cortina d'Ampezzo</td>\n",
              "      <td>[1956]</td>\n",
              "      <td>1</td>\n",
              "    </tr>\n",
              "    <tr>\n",
              "      <th>11</th>\n",
              "      <td>Garmisch-Partenkirchen</td>\n",
              "      <td>[1936]</td>\n",
              "      <td>1</td>\n",
              "    </tr>\n",
              "    <tr>\n",
              "      <th>12</th>\n",
              "      <td>Grenoble</td>\n",
              "      <td>[1968]</td>\n",
              "      <td>1</td>\n",
              "    </tr>\n",
              "    <tr>\n",
              "      <th>13</th>\n",
              "      <td>Helsinki</td>\n",
              "      <td>[1952]</td>\n",
              "      <td>1</td>\n",
              "    </tr>\n",
              "    <tr>\n",
              "      <th>16</th>\n",
              "      <td>Lillehammer</td>\n",
              "      <td>[1994]</td>\n",
              "      <td>1</td>\n",
              "    </tr>\n",
              "    <tr>\n",
              "      <th>19</th>\n",
              "      <td>Melbourne</td>\n",
              "      <td>[1956]</td>\n",
              "      <td>1</td>\n",
              "    </tr>\n",
              "    <tr>\n",
              "      <th>20</th>\n",
              "      <td>Mexico City</td>\n",
              "      <td>[1968]</td>\n",
              "      <td>1</td>\n",
              "    </tr>\n",
              "    <tr>\n",
              "      <th>1</th>\n",
              "      <td>Amsterdam</td>\n",
              "      <td>[1928]</td>\n",
              "      <td>1</td>\n",
              "    </tr>\n",
              "    <tr>\n",
              "      <th>41</th>\n",
              "      <td>Vancouver</td>\n",
              "      <td>[2010]</td>\n",
              "      <td>1</td>\n",
              "    </tr>\n",
              "  </tbody>\n",
              "</table>\n",
              "</div>"
            ],
            "text/plain": [
              "                      City               Years  Occurence\n",
              "3                   Athina  [2004, 1906, 1896]          3\n",
              "17                  London  [2012, 1948, 1908]          3\n",
              "30            Sankt Moritz        [1928, 1948]          2\n",
              "26                   Paris        [1900, 1924]          2\n",
              "37               Stockholm        [1912, 1956]          2\n",
              "18             Los Angeles        [1932, 1984]          2\n",
              "15             Lake Placid        [1980, 1932]          2\n",
              "14               Innsbruck        [1964, 1976]          2\n",
              "0              Albertville              [1992]          1\n",
              "27          Rio de Janeiro              [2016]          1\n",
              "28                    Roma              [1960]          1\n",
              "29          Salt Lake City              [2002]          1\n",
              "32                Sarajevo              [1984]          1\n",
              "31                 Sapporo              [1972]          1\n",
              "24                  Nagano              [1998]          1\n",
              "33                   Seoul              [1988]          1\n",
              "34                   Sochi              [2014]          1\n",
              "35            Squaw Valley              [1960]          1\n",
              "36               St. Louis              [1904]          1\n",
              "38                  Sydney              [2000]          1\n",
              "39                   Tokyo              [1964]          1\n",
              "40                  Torino              [2006]          1\n",
              "25                    Oslo              [1952]          1\n",
              "21                Montreal              [1976]          1\n",
              "23                  Munich              [1972]          1\n",
              "22                  Moskva              [1980]          1\n",
              "2                Antwerpen              [1920]          1\n",
              "4                  Atlanta              [1996]          1\n",
              "5                Barcelona              [1992]          1\n",
              "6                  Beijing              [2008]          1\n",
              "7                   Berlin              [1936]          1\n",
              "8                  Calgary              [1988]          1\n",
              "9                 Chamonix              [1924]          1\n",
              "10       Cortina d'Ampezzo              [1956]          1\n",
              "11  Garmisch-Partenkirchen              [1936]          1\n",
              "12                Grenoble              [1968]          1\n",
              "13                Helsinki              [1952]          1\n",
              "16             Lillehammer              [1994]          1\n",
              "19               Melbourne              [1956]          1\n",
              "20             Mexico City              [1968]          1\n",
              "1                Amsterdam              [1928]          1\n",
              "41               Vancouver              [2010]          1"
            ]
          },
          "metadata": {
            "tags": []
          },
          "execution_count": 9
        }
      ]
    },
    {
      "cell_type": "markdown",
      "metadata": {
        "id": "fT0Svx1LEp1Q",
        "colab_type": "text"
      },
      "source": [
        "**ความสัมพันธ์ระหว่างอายุน้ำหนักและส่วนสูงของนักกีฬาโอลิมปิก**"
      ]
    },
    {
      "cell_type": "code",
      "metadata": {
        "id": "N7LA9ElPEqst",
        "colab_type": "code",
        "colab": {
          "base_uri": "https://localhost:8080/",
          "height": 142
        },
        "outputId": "e084237c-96c8-4637-b52a-082af8a8e727"
      },
      "source": [
        "data[['Age','Height','Weight']].corr()"
      ],
      "execution_count": 10,
      "outputs": [
        {
          "output_type": "execute_result",
          "data": {
            "text/html": [
              "<div>\n",
              "<style scoped>\n",
              "    .dataframe tbody tr th:only-of-type {\n",
              "        vertical-align: middle;\n",
              "    }\n",
              "\n",
              "    .dataframe tbody tr th {\n",
              "        vertical-align: top;\n",
              "    }\n",
              "\n",
              "    .dataframe thead th {\n",
              "        text-align: right;\n",
              "    }\n",
              "</style>\n",
              "<table border=\"1\" class=\"dataframe\">\n",
              "  <thead>\n",
              "    <tr style=\"text-align: right;\">\n",
              "      <th></th>\n",
              "      <th>Age</th>\n",
              "      <th>Height</th>\n",
              "      <th>Weight</th>\n",
              "    </tr>\n",
              "  </thead>\n",
              "  <tbody>\n",
              "    <tr>\n",
              "      <th>Age</th>\n",
              "      <td>1.000000</td>\n",
              "      <td>0.138246</td>\n",
              "      <td>0.212069</td>\n",
              "    </tr>\n",
              "    <tr>\n",
              "      <th>Height</th>\n",
              "      <td>0.138246</td>\n",
              "      <td>1.000000</td>\n",
              "      <td>0.796213</td>\n",
              "    </tr>\n",
              "    <tr>\n",
              "      <th>Weight</th>\n",
              "      <td>0.212069</td>\n",
              "      <td>0.796213</td>\n",
              "      <td>1.000000</td>\n",
              "    </tr>\n",
              "  </tbody>\n",
              "</table>\n",
              "</div>"
            ],
            "text/plain": [
              "             Age    Height    Weight\n",
              "Age     1.000000  0.138246  0.212069\n",
              "Height  0.138246  1.000000  0.796213\n",
              "Weight  0.212069  0.796213  1.000000"
            ]
          },
          "metadata": {
            "tags": []
          },
          "execution_count": 10
        }
      ]
    },
    {
      "cell_type": "markdown",
      "metadata": {
        "id": "5H2Rs5ewEvDr",
        "colab_type": "text"
      },
      "source": [
        "**การมีส่วนร่วมของชายและหญิงในการแข่งขันกีฬาโอลิมปิก**"
      ]
    },
    {
      "cell_type": "code",
      "metadata": {
        "id": "BYJNMr-PE0wO",
        "colab_type": "code",
        "colab": {
          "base_uri": "https://localhost:8080/",
          "height": 34
        },
        "outputId": "421c5cb6-03dd-468c-a31a-1c71ccd689f0"
      },
      "source": [
        "print('จำนวนนักกีฬาทั้งหมดที่เข้าร่วมการแข่งขันกีฬาโอลิมปิก :',len(data.ID.unique()))"
      ],
      "execution_count": 11,
      "outputs": [
        {
          "output_type": "stream",
          "text": [
            "จำนวนนักกีฬาทั้งหมดที่เข้าร่วมการแข่งขันกีฬาโอลิมปิก : 135571\n"
          ],
          "name": "stdout"
        }
      ]
    },
    {
      "cell_type": "code",
      "metadata": {
        "id": "9vJbFKfyE6yp",
        "colab_type": "code",
        "colab": {
          "base_uri": "https://localhost:8080/",
          "height": 51
        },
        "outputId": "16b9bda4-94e4-4586-af38-356a4252af7e"
      },
      "source": [
        "print('จำนวนนักกีฬาหญิงที่เข้าร่วม :',len(data[data.Sex=='F']))\n",
        "print('จำนวนนักกีฬาชายที่เข้าร่วม :',len(data[data.Sex=='M']))"
      ],
      "execution_count": 12,
      "outputs": [
        {
          "output_type": "stream",
          "text": [
            "จำนวนนักกีฬาหญิงที่เข้าร่วม : 74522\n",
            "จำนวนนักกีฬาชายที่เข้าร่วม : 196594\n"
          ],
          "name": "stdout"
        }
      ]
    },
    {
      "cell_type": "code",
      "metadata": {
        "id": "QE-lOAR_E-Tn",
        "colab_type": "code",
        "colab": {
          "base_uri": "https://localhost:8080/",
          "height": 351
        },
        "outputId": "ea40498a-4f07-4d92-cced-f0bc4d25b72d"
      },
      "source": [
        "import matplotlib.pyplot as plt\n",
        "from PIL import Image\n",
        "%matplotlib inline\n",
        "import numpy as np\n",
        "import seaborn as sns\n",
        "data.Sex.unique()\n",
        "data.Sex.value_counts()\n",
        "sns.countplot(data.Sex)\n",
        "plt.title('Male Female participation in Olympic',size=15,color='red')\n",
        "plt.show()"
      ],
      "execution_count": 13,
      "outputs": [
        {
          "output_type": "stream",
          "text": [
            "/usr/local/lib/python3.6/dist-packages/statsmodels/tools/_testing.py:19: FutureWarning: pandas.util.testing is deprecated. Use the functions in the public API at pandas.testing instead.\n",
            "  import pandas.util.testing as tm\n"
          ],
          "name": "stderr"
        },
        {
          "output_type": "display_data",
          "data": {
            "image/png": "[encoded data removed]",
            "text/plain": [
              "<Figure size 432x288 with 1 Axes>"
            ]
          },
          "metadata": {
            "tags": [],
            "needs_background": "light"
          }
        }
      ]
    },
    {
      "cell_type": "code",
      "metadata": {
        "id": "u1twBIAKFDQO",
        "colab_type": "code",
        "colab": {
          "base_uri": "https://localhost:8080/",
          "height": 367
        },
        "outputId": "93aacc7c-35cf-45ce-bb44-d3cb2a8b37ff"
      },
      "source": [
        "part = data.groupby('Year')['Sex'].value_counts()\n",
        "part.loc[:,'F'].plot(title='Men/Women participation in Olympic',figsize=(13,5)).set_ylabel(\"Athletes\")\n",
        "part.loc[:,'M'].plot()"
      ],
      "execution_count": 14,
      "outputs": [
        {
          "output_type": "execute_result",
          "data": {
            "text/plain": [
              "<matplotlib.axes._subplots.AxesSubplot at 0x7fb4e9e02cc0>"
            ]
          },
          "metadata": {
            "tags": []
          },
          "execution_count": 14
        },
        {
          "output_type": "display_data",
          "data": {
            "image/png": "[encoded data removed]",
            "text/plain": [
              "<Figure size 936x360 with 1 Axes>"
            ]
          },
          "metadata": {
            "tags": [],
            "needs_background": "light"
          }
        }
      ]
    },
    {
      "cell_type": "markdown",
      "metadata": {
        "id": "2Ng0_vS9FMPQ",
        "colab_type": "text"
      },
      "source": [
        "**นักกีฬาเข้าร่วมในโอลิมปิกฤดูร้อน**"
      ]
    },
    {
      "cell_type": "code",
      "metadata": {
        "id": "fNPgLXY9FNZU",
        "colab_type": "code",
        "colab": {
          "base_uri": "https://localhost:8080/",
          "height": 606
        },
        "outputId": "9495990b-4770-4170-9c73-94d280ae3d49"
      },
      "source": [
        "ath=data[data['Season']=='Summer'].groupby('Year')['ID'].count()\n",
        "plt.figure(figsize=(15, 10))\n",
        "ath.plot(kind='line',color='red')\n",
        "plt.xlabel('Year')\n",
        "plt.ylabel('No of Athletes')\n",
        "plt.show()"
      ],
      "execution_count": 15,
      "outputs": [
        {
          "output_type": "display_data",
          "data": {
            "image/png": "[encoded data removed]",
            "text/plain": [
              "<Figure size 1080x720 with 1 Axes>"
            ]
          },
          "metadata": {
            "tags": [],
            "needs_background": "light"
          }
        }
      ]
    },
    {
      "cell_type": "markdown",
      "metadata": {
        "id": "Mwq0rMWcFUe9",
        "colab_type": "text"
      },
      "source": [
        "**นักกีฬาเข้าร่วมในโอลิมปิกฤดูหนาว**"
      ]
    },
    {
      "cell_type": "code",
      "metadata": {
        "id": "S4nDYxzZFVi7",
        "colab_type": "code",
        "colab": {
          "base_uri": "https://localhost:8080/",
          "height": 606
        },
        "outputId": "e0014d15-fe6f-4463-8fed-57aac1604db9"
      },
      "source": [
        "ath=data[data['Season']=='Winter'].groupby('Year')['ID'].count()\n",
        "plt.figure(figsize=(15, 10))\n",
        "ath.plot(kind='line',color='blue')\n",
        "plt.xlabel('Year')\n",
        "plt.ylabel('No of Athletes')\n",
        "plt.show()"
      ],
      "execution_count": 16,
      "outputs": [
        {
          "output_type": "display_data",
          "data": {
            "image/png": "[encoded data removed]",
            "text/plain": [
              "<Figure size 1080x720 with 1 Axes>"
            ]
          },
          "metadata": {
            "tags": [],
            "needs_background": "light"
          }
        }
      ]
    },
    {
      "cell_type": "markdown",
      "metadata": {
        "id": "sijxxOycFff_",
        "colab_type": "text"
      },
      "source": [
        "**การค้นหานักกีฬาที่อายุน้อยที่สุด อายุมากที่สุดและอายุมัธยฐาน(ค่ากึ่งกลางของข้อมูล)ให้เข้าร่วมในเกม**"
      ]
    },
    {
      "cell_type": "code",
      "metadata": {
        "id": "TwDxt3p0Fgq4",
        "colab_type": "code",
        "colab": {
          "base_uri": "https://localhost:8080/",
          "height": 68
        },
        "outputId": "793a8d67-3117-4c84-a540-41ebdf232f2c"
      },
      "source": [
        "print('นักกีฬาที่อายุน้อยที่สุด :',data.Age.min())\n",
        "print('อายุเฉลี่ยของนักกีฬา :',data.Age.mean())\n",
        "print('นักกีฬาที่อายุมากที่สุด :',data.Age.max())"
      ],
      "execution_count": 17,
      "outputs": [
        {
          "output_type": "stream",
          "text": [
            "นักกีฬาที่อายุน้อยที่สุด : 10.0\n",
            "อายุเฉลี่ยของนักกีฬา : 25.556898357297374\n",
            "นักกีฬาที่อายุมากที่สุด : 97.0\n"
          ],
          "name": "stdout"
        }
      ]
    },
    {
      "cell_type": "code",
      "metadata": {
        "id": "IrMa5GCzFpZU",
        "colab_type": "code",
        "colab": {}
      },
      "source": [
        "import matplotlib.pyplot as plt\n",
        "from PIL import Image\n",
        "%matplotlib inline\n",
        "import numpy as np"
      ],
      "execution_count": 0,
      "outputs": []
    },
    {
      "cell_type": "code",
      "metadata": {
        "id": "DlIM43yEFq5-",
        "colab_type": "code",
        "colab": {
          "base_uri": "https://localhost:8080/",
          "height": 279
        },
        "outputId": "0d73ce6c-9e3c-4827-fb91-09acf2d52cd5"
      },
      "source": [
        "y=np.array([data.Age.min(),data.Age.mean(),data.Age.max()])\n",
        "x=['Youngest','Average','Oldest']\n",
        "plt.bar(x,y)\n",
        "plt.xlabel('Feature')\n",
        "plt.ylabel('Age')\n",
        "plt.show()"
      ],
      "execution_count": 19,
      "outputs": [
        {
          "output_type": "display_data",
          "data": {
            "image/png": "[encoded data removed]",
            "text/plain": [
              "<Figure size 432x288 with 1 Axes>"
            ]
          },
          "metadata": {
            "tags": [],
            "needs_background": "light"
          }
        }
      ]
    },
    {
      "cell_type": "markdown",
      "metadata": {
        "id": "qivSMBZoF0NP",
        "colab_type": "text"
      },
      "source": [
        "**ข้อมูลอายุ ความสูง และน้ำหนักของนักกีฬา**"
      ]
    },
    {
      "cell_type": "code",
      "metadata": {
        "id": "p4796RqkF1YV",
        "colab_type": "code",
        "colab": {
          "base_uri": "https://localhost:8080/",
          "height": 314
        },
        "outputId": "bd62c6dc-c9a1-49f1-e9f6-8f20ff8c00d4"
      },
      "source": [
        "x=sns.distplot(data['Age'].dropna(),color='Red',kde=True)\n",
        "x.set_title('Age Distribution of Athletes',fontsize=16,fontweight=200)"
      ],
      "execution_count": 20,
      "outputs": [
        {
          "output_type": "execute_result",
          "data": {
            "text/plain": [
              "Text(0.5, 1.0, 'Age Distribution of Athletes')"
            ]
          },
          "metadata": {
            "tags": []
          },
          "execution_count": 20
        },
        {
          "output_type": "display_data",
          "data": {
            "image/png": "[encoded data removed]",
            "text/plain": [
              "<Figure size 432x288 with 1 Axes>"
            ]
          },
          "metadata": {
            "tags": [],
            "needs_background": "light"
          }
        }
      ]
    },
    {
      "cell_type": "code",
      "metadata": {
        "id": "cPNlcY_-F6yJ",
        "colab_type": "code",
        "colab": {
          "base_uri": "https://localhost:8080/",
          "height": 314
        },
        "outputId": "eb2a989e-5e8d-4b13-a58c-a1d3da60f994"
      },
      "source": [
        "h=sns.distplot(data['Height'].dropna(),color='Green',kde=True)\n",
        "h.set_title('Height Distribution of Athletes',fontsize=16,fontweight=200)"
      ],
      "execution_count": 21,
      "outputs": [
        {
          "output_type": "execute_result",
          "data": {
            "text/plain": [
              "Text(0.5, 1.0, 'Height Distribution of Athletes')"
            ]
          },
          "metadata": {
            "tags": []
          },
          "execution_count": 21
        },
        {
          "output_type": "display_data",
          "data": {
            "image/png": "[encoded data removed]",
            "text/plain": [
              "<Figure size 432x288 with 1 Axes>"
            ]
          },
          "metadata": {
            "tags": [],
            "needs_background": "light"
          }
        }
      ]
    },
    {
      "cell_type": "code",
      "metadata": {
        "id": "h0oOkwCsF69W",
        "colab_type": "code",
        "colab": {
          "base_uri": "https://localhost:8080/",
          "height": 314
        },
        "outputId": "c006e320-4844-4c79-a774-7e390c5da4ee"
      },
      "source": [
        "w=sns.distplot(data['Weight'].dropna(),color='Blue',kde=True)\n",
        "w.set_title('Weight Distribution of Athletes',fontsize=16,fontweight=200)"
      ],
      "execution_count": 22,
      "outputs": [
        {
          "output_type": "execute_result",
          "data": {
            "text/plain": [
              "Text(0.5, 1.0, 'Weight Distribution of Athletes')"
            ]
          },
          "metadata": {
            "tags": []
          },
          "execution_count": 22
        },
        {
          "output_type": "display_data",
          "data": {
            "image/png": "[encoded data removed]",
            "text/plain": [
              "<Figure size 432x288 with 1 Axes>"
            ]
          },
          "metadata": {
            "tags": [],
            "needs_background": "light"
          }
        }
      ]
    },
    {
      "cell_type": "code",
      "metadata": {
        "id": "zI62dA1VGElf",
        "colab_type": "code",
        "colab": {
          "base_uri": "https://localhost:8080/",
          "height": 623
        },
        "outputId": "d9f17d2e-0e6f-4b73-a5d9-083ca207df74"
      },
      "source": [
        "f,ax=plt.subplots(figsize=(20,10))\n",
        "sns.distplot(data['Age'].dropna(),color='Red',kde=True)\n",
        "sns.distplot(data['Height'].dropna(),color='Green',kde=True)\n",
        "sns.distplot(data['Weight'].dropna(),color='Blue',kde=True)"
      ],
      "execution_count": 23,
      "outputs": [
        {
          "output_type": "execute_result",
          "data": {
            "text/plain": [
              "<matplotlib.axes._subplots.AxesSubplot at 0x7fb4e98f4940>"
            ]
          },
          "metadata": {
            "tags": []
          },
          "execution_count": 23
        },
        {
          "output_type": "display_data",
          "data": {
            "image/png": "[encoded data removed]",
            "text/plain": [
              "<Figure size 1440x720 with 1 Axes>"
            ]
          },
          "metadata": {
            "tags": [],
            "needs_background": "light"
          }
        }
      ]
    },
    {
      "cell_type": "markdown",
      "metadata": {
        "id": "HJCCITPfGKmd",
        "colab_type": "text"
      },
      "source": [
        "**10 ประเทศติดอันดับใน 120 ปีของการแข่งขันกีฬาโอลิมปิก**"
      ]
    },
    {
      "cell_type": "code",
      "metadata": {
        "id": "HcefZZgWGL9t",
        "colab_type": "code",
        "colab": {
          "base_uri": "https://localhost:8080/",
          "height": 85
        },
        "outputId": "f9f1303a-e2ab-468f-f32f-6c3352ecf996"
      },
      "source": [
        "data.Medal.value_counts()"
      ],
      "execution_count": 24,
      "outputs": [
        {
          "output_type": "execute_result",
          "data": {
            "text/plain": [
              "Gold      13372\n",
              "Bronze    13295\n",
              "Silver    13116\n",
              "Name: Medal, dtype: int64"
            ]
          },
          "metadata": {
            "tags": []
          },
          "execution_count": 24
        }
      ]
    },
    {
      "cell_type": "code",
      "metadata": {
        "id": "LF-6-szdGSzF",
        "colab_type": "code",
        "colab": {
          "base_uri": "https://localhost:8080/",
          "height": 592
        },
        "outputId": "277e9592-3b72-4435-83de-562a7b8add5f"
      },
      "source": [
        "plt.subplot(3,1,1)\n",
        "gold = data[data.Medal == \"Gold\"].Team.value_counts().head(10)\n",
        "gold.plot(kind='bar',rot=0,figsize=(20, 10))\n",
        "plt.ylabel(\"Gold Medal\")\n",
        "plt.subplot(3,1,2)\n",
        "silver = data[data.Medal == \"Silver\"].Team.value_counts().head(10)\n",
        "silver.plot(kind='bar',rot=0,figsize=(20, 10))\n",
        "plt.ylabel(\"Silver Medal\")\n",
        "plt.subplot(3,1,3)\n",
        "bronze = data[data.Medal == \"Bronze\"].Team.value_counts().head(10)\n",
        "bronze.plot(kind='bar',rot=0,figsize=(20, 10))\n",
        "plt.ylabel(\"Bronze Medal\")\n",
        "\n",
        "plt.show()"
      ],
      "execution_count": 25,
      "outputs": [
        {
          "output_type": "display_data",
          "data": {
            "image/png": "[encoded data removed]",
            "text/plain": [
              "<Figure size 1440x720 with 3 Axes>"
            ]
          },
          "metadata": {
            "tags": [],
            "needs_background": "light"
          }
        }
      ]
    },
    {
      "cell_type": "code",
      "metadata": {
        "id": "umyQK2OxGW2Y",
        "colab_type": "code",
        "colab": {
          "base_uri": "https://localhost:8080/",
          "height": 621
        },
        "outputId": "62e52159-b555-44c5-e06e-ddf83d0ceefb"
      },
      "source": [
        "plt.figure(figsize=(15, 10))\n",
        "topc=olp_data.groupby('region')['Medal'].count().nlargest(10).reset_index()\n",
        "sns.barplot('region','Medal',data=topc)\n",
        "plt.title('Top Countries in Olympic Medals')\n",
        "plt.show()"
      ],
      "execution_count": 26,
      "outputs": [
        {
          "output_type": "display_data",
          "data": {
            "image/png": "[encoded data removed]",
            "text/plain": [
              "<Figure size 1080x720 with 1 Axes>"
            ]
          },
          "metadata": {
            "tags": [],
            "needs_background": "light"
          }
        }
      ]
    },
    {
      "cell_type": "markdown",
      "metadata": {
        "id": "4k9rGIJwGdau",
        "colab_type": "text"
      },
      "source": [
        "**ประเทศที่ได้รับเหรียญมากที่สุดในแต่ละปี**"
      ]
    },
    {
      "cell_type": "code",
      "metadata": {
        "id": "3wqKEllJGeeu",
        "colab_type": "code",
        "colab": {
          "base_uri": "https://localhost:8080/",
          "height": 623
        },
        "outputId": "226ebb54-1508-49be-f381-faa57e197758"
      },
      "source": [
        "plt.figure(figsize=(15, 10))\n",
        "topm=olp_data.groupby(['region','Year'])['Medal'].count().reset_index()\n",
        "topm=topm[topm['region'].isin(olp_data['region'].value_counts()[:5].index)]\n",
        "#topm=topm.pivot('region','Year','Medal').fillna(0)\n",
        "sns.lineplot(topm['Year'],topm['Medal'],hue=topm['region'])"
      ],
      "execution_count": 27,
      "outputs": [
        {
          "output_type": "execute_result",
          "data": {
            "text/plain": [
              "<matplotlib.axes._subplots.AxesSubplot at 0x7fb4e961e2b0>"
            ]
          },
          "metadata": {
            "tags": []
          },
          "execution_count": 27
        },
        {
          "output_type": "display_data",
          "data": {
            "image/png": "[encoded data removed]",
            "text/plain": [
              "<Figure size 1080x720 with 1 Axes>"
            ]
          },
          "metadata": {
            "tags": [],
            "needs_background": "light"
          }
        }
      ]
    },
    {
      "cell_type": "markdown",
      "metadata": {
        "id": "QbU2Jb5OGmBf",
        "colab_type": "text"
      },
      "source": [
        "**ประเมินประสิทธิภาพของประเทศไทยในกีฬาโอลิมปิก**"
      ]
    },
    {
      "cell_type": "code",
      "metadata": {
        "id": "Y1pU98lOGn38",
        "colab_type": "code",
        "colab": {
          "base_uri": "https://localhost:8080/",
          "height": 296
        },
        "outputId": "eb97d8ef-bd64-40ef-f7f1-a362b49311bb"
      },
      "source": [
        "import seaborn as sns\n",
        "medal=data[data.Medal.notnull()]\n",
        "Thailand_medals=medal[medal.Team=='Thailand']\n",
        "Thailand_medals.head()\n",
        "sns.countplot(x='Medal',data=Thailand_medals)"
      ],
      "execution_count": 28,
      "outputs": [
        {
          "output_type": "execute_result",
          "data": {
            "text/plain": [
              "<matplotlib.axes._subplots.AxesSubplot at 0x7fb4e9559390>"
            ]
          },
          "metadata": {
            "tags": []
          },
          "execution_count": 28
        },
        {
          "output_type": "display_data",
          "data": {
            "image/png": "[encoded data removed]",
            "text/plain": [
              "<Figure size 432x288 with 1 Axes>"
            ]
          },
          "metadata": {
            "tags": [],
            "needs_background": "light"
          }
        }
      ]
    },
    {
      "cell_type": "markdown",
      "metadata": {
        "id": "GfF6JVOZGx0B",
        "colab_type": "text"
      },
      "source": [
        "**รายละเอียดของเกมที่ประเทศไทยได้รับรางวัล เรียงจากเหรียญทอง เหรียญเงิน และเหรียญทองแดง**"
      ]
    },
    {
      "cell_type": "code",
      "metadata": {
        "id": "h0aP3iE5Gy7r",
        "colab_type": "code",
        "colab": {
          "base_uri": "https://localhost:8080/",
          "height": 266
        },
        "outputId": "92e9c16e-7749-4d9e-f9cb-fb258c7b2df1"
      },
      "source": [
        "gold = data[(data.Medal == 'Gold')]\n",
        "goldTHA = gold.loc[gold['NOC'] == 'THA']\n",
        "goldTHA.Event.value_counts().reset_index(name='Medal').head(20)"
      ],
      "execution_count": 29,
      "outputs": [
        {
          "output_type": "execute_result",
          "data": {
            "text/html": [
              "<div>\n",
              "<style scoped>\n",
              "    .dataframe tbody tr th:only-of-type {\n",
              "        vertical-align: middle;\n",
              "    }\n",
              "\n",
              "    .dataframe tbody tr th {\n",
              "        vertical-align: top;\n",
              "    }\n",
              "\n",
              "    .dataframe thead th {\n",
              "        text-align: right;\n",
              "    }\n",
              "</style>\n",
              "<table border=\"1\" class=\"dataframe\">\n",
              "  <thead>\n",
              "    <tr style=\"text-align: right;\">\n",
              "      <th></th>\n",
              "      <th>index</th>\n",
              "      <th>Medal</th>\n",
              "    </tr>\n",
              "  </thead>\n",
              "  <tbody>\n",
              "    <tr>\n",
              "      <th>0</th>\n",
              "      <td>Weightlifting Women's Featherweight</td>\n",
              "      <td>2</td>\n",
              "    </tr>\n",
              "    <tr>\n",
              "      <th>1</th>\n",
              "      <td>Boxing Men's Flyweight</td>\n",
              "      <td>2</td>\n",
              "    </tr>\n",
              "    <tr>\n",
              "      <th>2</th>\n",
              "      <td>Weightlifting Women's Lightweight</td>\n",
              "      <td>1</td>\n",
              "    </tr>\n",
              "    <tr>\n",
              "      <th>3</th>\n",
              "      <td>Boxing Men's Featherweight</td>\n",
              "      <td>1</td>\n",
              "    </tr>\n",
              "    <tr>\n",
              "      <th>4</th>\n",
              "      <td>Weightlifting Women's Flyweight</td>\n",
              "      <td>1</td>\n",
              "    </tr>\n",
              "    <tr>\n",
              "      <th>5</th>\n",
              "      <td>Weightlifting Women's Heavyweight</td>\n",
              "      <td>1</td>\n",
              "    </tr>\n",
              "    <tr>\n",
              "      <th>6</th>\n",
              "      <td>Boxing Men's Light-Welterweight</td>\n",
              "      <td>1</td>\n",
              "    </tr>\n",
              "  </tbody>\n",
              "</table>\n",
              "</div>"
            ],
            "text/plain": [
              "                                 index  Medal\n",
              "0  Weightlifting Women's Featherweight      2\n",
              "1               Boxing Men's Flyweight      2\n",
              "2    Weightlifting Women's Lightweight      1\n",
              "3           Boxing Men's Featherweight      1\n",
              "4      Weightlifting Women's Flyweight      1\n",
              "5    Weightlifting Women's Heavyweight      1\n",
              "6      Boxing Men's Light-Welterweight      1"
            ]
          },
          "metadata": {
            "tags": []
          },
          "execution_count": 29
        }
      ]
    },
    {
      "cell_type": "code",
      "metadata": {
        "id": "XTR7kvZxG54e",
        "colab_type": "code",
        "colab": {
          "base_uri": "https://localhost:8080/",
          "height": 235
        },
        "outputId": "15fe990d-0ea1-4a86-b592-8f207bd5cb45"
      },
      "source": [
        "Silver = data[(data.Medal == 'Silver')]\n",
        "SilverTHA = Silver.loc[Silver['NOC'] == 'THA']\n",
        "SilverTHA.Event.value_counts().reset_index(name='Medal').head(20)"
      ],
      "execution_count": 30,
      "outputs": [
        {
          "output_type": "execute_result",
          "data": {
            "text/html": [
              "<div>\n",
              "<style scoped>\n",
              "    .dataframe tbody tr th:only-of-type {\n",
              "        vertical-align: middle;\n",
              "    }\n",
              "\n",
              "    .dataframe tbody tr th {\n",
              "        vertical-align: top;\n",
              "    }\n",
              "\n",
              "    .dataframe thead th {\n",
              "        text-align: right;\n",
              "    }\n",
              "</style>\n",
              "<table border=\"1\" class=\"dataframe\">\n",
              "  <thead>\n",
              "    <tr style=\"text-align: right;\">\n",
              "      <th></th>\n",
              "      <th>index</th>\n",
              "      <th>Medal</th>\n",
              "    </tr>\n",
              "  </thead>\n",
              "  <tbody>\n",
              "    <tr>\n",
              "      <th>0</th>\n",
              "      <td>Weightlifting Women's Lightweight</td>\n",
              "      <td>2</td>\n",
              "    </tr>\n",
              "    <tr>\n",
              "      <th>1</th>\n",
              "      <td>Boxing Men's Light-Welterweight</td>\n",
              "      <td>2</td>\n",
              "    </tr>\n",
              "    <tr>\n",
              "      <th>2</th>\n",
              "      <td>Boxing Men's Bantamweight</td>\n",
              "      <td>1</td>\n",
              "    </tr>\n",
              "    <tr>\n",
              "      <th>3</th>\n",
              "      <td>Taekwondo Women's Flyweight</td>\n",
              "      <td>1</td>\n",
              "    </tr>\n",
              "    <tr>\n",
              "      <th>4</th>\n",
              "      <td>Boxing Men's Light-Flyweight</td>\n",
              "      <td>1</td>\n",
              "    </tr>\n",
              "    <tr>\n",
              "      <th>5</th>\n",
              "      <td>Taekwondo Men's Flyweight</td>\n",
              "      <td>1</td>\n",
              "    </tr>\n",
              "  </tbody>\n",
              "</table>\n",
              "</div>"
            ],
            "text/plain": [
              "                               index  Medal\n",
              "0  Weightlifting Women's Lightweight      2\n",
              "1    Boxing Men's Light-Welterweight      2\n",
              "2          Boxing Men's Bantamweight      1\n",
              "3        Taekwondo Women's Flyweight      1\n",
              "4       Boxing Men's Light-Flyweight      1\n",
              "5          Taekwondo Men's Flyweight      1"
            ]
          },
          "metadata": {
            "tags": []
          },
          "execution_count": 30
        }
      ]
    },
    {
      "cell_type": "code",
      "metadata": {
        "id": "9Rxp6ampG9Tc",
        "colab_type": "code",
        "colab": {
          "base_uri": "https://localhost:8080/",
          "height": 328
        },
        "outputId": "9fe0b6cd-39d1-4b58-b695-90c2aeefd735"
      },
      "source": [
        "Bronze = data[(data.Medal == 'Bronze')]\n",
        "BronzeTHA = Bronze.loc[Bronze['NOC'] == 'THA']\n",
        "BronzeTHA.Event.value_counts().reset_index(name='Medal').head(20)"
      ],
      "execution_count": 31,
      "outputs": [
        {
          "output_type": "execute_result",
          "data": {
            "text/html": [
              "<div>\n",
              "<style scoped>\n",
              "    .dataframe tbody tr th:only-of-type {\n",
              "        vertical-align: middle;\n",
              "    }\n",
              "\n",
              "    .dataframe tbody tr th {\n",
              "        vertical-align: top;\n",
              "    }\n",
              "\n",
              "    .dataframe thead th {\n",
              "        text-align: right;\n",
              "    }\n",
              "</style>\n",
              "<table border=\"1\" class=\"dataframe\">\n",
              "  <thead>\n",
              "    <tr style=\"text-align: right;\">\n",
              "      <th></th>\n",
              "      <th>index</th>\n",
              "      <th>Medal</th>\n",
              "    </tr>\n",
              "  </thead>\n",
              "  <tbody>\n",
              "    <tr>\n",
              "      <th>0</th>\n",
              "      <td>Taekwondo Women's Flyweight</td>\n",
              "      <td>3</td>\n",
              "    </tr>\n",
              "    <tr>\n",
              "      <th>1</th>\n",
              "      <td>Boxing Men's Bantamweight</td>\n",
              "      <td>2</td>\n",
              "    </tr>\n",
              "    <tr>\n",
              "      <th>2</th>\n",
              "      <td>Weightlifting Women's Lightweight</td>\n",
              "      <td>2</td>\n",
              "    </tr>\n",
              "    <tr>\n",
              "      <th>3</th>\n",
              "      <td>Boxing Men's Light-Flyweight</td>\n",
              "      <td>1</td>\n",
              "    </tr>\n",
              "    <tr>\n",
              "      <th>4</th>\n",
              "      <td>Boxing Men's Light-Middleweight</td>\n",
              "      <td>1</td>\n",
              "    </tr>\n",
              "    <tr>\n",
              "      <th>5</th>\n",
              "      <td>Weightlifting Men's Bantamweight</td>\n",
              "      <td>1</td>\n",
              "    </tr>\n",
              "    <tr>\n",
              "      <th>6</th>\n",
              "      <td>Weightlifting Women's Flyweight</td>\n",
              "      <td>1</td>\n",
              "    </tr>\n",
              "    <tr>\n",
              "      <th>7</th>\n",
              "      <td>Boxing Men's Middleweight</td>\n",
              "      <td>1</td>\n",
              "    </tr>\n",
              "    <tr>\n",
              "      <th>8</th>\n",
              "      <td>Boxing Men's Welterweight</td>\n",
              "      <td>1</td>\n",
              "    </tr>\n",
              "  </tbody>\n",
              "</table>\n",
              "</div>"
            ],
            "text/plain": [
              "                               index  Medal\n",
              "0        Taekwondo Women's Flyweight      3\n",
              "1          Boxing Men's Bantamweight      2\n",
              "2  Weightlifting Women's Lightweight      2\n",
              "3       Boxing Men's Light-Flyweight      1\n",
              "4    Boxing Men's Light-Middleweight      1\n",
              "5   Weightlifting Men's Bantamweight      1\n",
              "6    Weightlifting Women's Flyweight      1\n",
              "7          Boxing Men's Middleweight      1\n",
              "8          Boxing Men's Welterweight      1"
            ]
          },
          "metadata": {
            "tags": []
          },
          "execution_count": 31
        }
      ]
    },
    {
      "cell_type": "markdown",
      "metadata": {
        "id": "cdCDGysDKQwO",
        "colab_type": "text"
      },
      "source": [
        "**รายละเอียดของนักกีฬาของประเทศไทยทั้งหมดที่ไปแข่งกีฬาโอลิมปิก**"
      ]
    },
    {
      "cell_type": "code",
      "metadata": {
        "id": "B9d4qFn8K7_y",
        "colab_type": "code",
        "colab": {
          "base_uri": "https://localhost:8080/",
          "height": 589
        },
        "outputId": "743c0ab3-5ec6-4216-fd9e-f3ce9b8f76d8"
      },
      "source": [
        "MedalsTHA = olp_data[olp_data['NOC'] == 'THA']\n",
        "MedalsTHA"
      ],
      "execution_count": 53,
      "outputs": [
        {
          "output_type": "execute_result",
          "data": {
            "text/html": [
              "<div>\n",
              "<style scoped>\n",
              "    .dataframe tbody tr th:only-of-type {\n",
              "        vertical-align: middle;\n",
              "    }\n",
              "\n",
              "    .dataframe tbody tr th {\n",
              "        vertical-align: top;\n",
              "    }\n",
              "\n",
              "    .dataframe thead th {\n",
              "        text-align: right;\n",
              "    }\n",
              "</style>\n",
              "<table border=\"1\" class=\"dataframe\">\n",
              "  <thead>\n",
              "    <tr style=\"text-align: right;\">\n",
              "      <th></th>\n",
              "      <th>ID</th>\n",
              "      <th>Name</th>\n",
              "      <th>Sex</th>\n",
              "      <th>Age</th>\n",
              "      <th>Height</th>\n",
              "      <th>Weight</th>\n",
              "      <th>Team</th>\n",
              "      <th>NOC</th>\n",
              "      <th>Games</th>\n",
              "      <th>Year</th>\n",
              "      <th>Season</th>\n",
              "      <th>City</th>\n",
              "      <th>Sport</th>\n",
              "      <th>Event</th>\n",
              "      <th>Medal</th>\n",
              "      <th>region</th>\n",
              "      <th>notes</th>\n",
              "    </tr>\n",
              "  </thead>\n",
              "  <tbody>\n",
              "    <tr>\n",
              "      <th>2680</th>\n",
              "      <td>1494</td>\n",
              "      <td>Mongkol Aimmanolrom</td>\n",
              "      <td>M</td>\n",
              "      <td>NaN</td>\n",
              "      <td>NaN</td>\n",
              "      <td>NaN</td>\n",
              "      <td>Thailand</td>\n",
              "      <td>THA</td>\n",
              "      <td>1956 Summer</td>\n",
              "      <td>1956</td>\n",
              "      <td>Summer</td>\n",
              "      <td>Melbourne</td>\n",
              "      <td>Basketball</td>\n",
              "      <td>Basketball Men's Basketball</td>\n",
              "      <td>NaN</td>\n",
              "      <td>Thailand</td>\n",
              "      <td>NaN</td>\n",
              "    </tr>\n",
              "    <tr>\n",
              "      <th>5817</th>\n",
              "      <td>3276</td>\n",
              "      <td>Ampol Amaluktipituk</td>\n",
              "      <td>M</td>\n",
              "      <td>34.0</td>\n",
              "      <td>171.0</td>\n",
              "      <td>63.0</td>\n",
              "      <td>Thailand</td>\n",
              "      <td>THA</td>\n",
              "      <td>1984 Summer</td>\n",
              "      <td>1984</td>\n",
              "      <td>Summer</td>\n",
              "      <td>Los Angeles</td>\n",
              "      <td>Archery</td>\n",
              "      <td>Archery Men's Individual</td>\n",
              "      <td>NaN</td>\n",
              "      <td>Thailand</td>\n",
              "      <td>NaN</td>\n",
              "    </tr>\n",
              "    <tr>\n",
              "      <th>6154</th>\n",
              "      <td>3463</td>\n",
              "      <td>Savitree Amitrapai</td>\n",
              "      <td>F</td>\n",
              "      <td>27.0</td>\n",
              "      <td>164.0</td>\n",
              "      <td>56.0</td>\n",
              "      <td>Thailand</td>\n",
              "      <td>THA</td>\n",
              "      <td>2016 Summer</td>\n",
              "      <td>2016</td>\n",
              "      <td>Summer</td>\n",
              "      <td>Rio de Janeiro</td>\n",
              "      <td>Badminton</td>\n",
              "      <td>Badminton Mixed Doubles</td>\n",
              "      <td>NaN</td>\n",
              "      <td>Thailand</td>\n",
              "      <td>NaN</td>\n",
              "    </tr>\n",
              "    <tr>\n",
              "      <th>8533</th>\n",
              "      <td>4691</td>\n",
              "      <td>Kiradech Aphibarnrat</td>\n",
              "      <td>M</td>\n",
              "      <td>27.0</td>\n",
              "      <td>172.0</td>\n",
              "      <td>104.0</td>\n",
              "      <td>Thailand</td>\n",
              "      <td>THA</td>\n",
              "      <td>2016 Summer</td>\n",
              "      <td>2016</td>\n",
              "      <td>Summer</td>\n",
              "      <td>Rio de Janeiro</td>\n",
              "      <td>Golf</td>\n",
              "      <td>Golf Men's Individual</td>\n",
              "      <td>NaN</td>\n",
              "      <td>Thailand</td>\n",
              "      <td>NaN</td>\n",
              "    </tr>\n",
              "    <tr>\n",
              "      <th>8994</th>\n",
              "      <td>4947</td>\n",
              "      <td>Sailom Ard</td>\n",
              "      <td>M</td>\n",
              "      <td>22.0</td>\n",
              "      <td>172.0</td>\n",
              "      <td>57.0</td>\n",
              "      <td>Thailand</td>\n",
              "      <td>THA</td>\n",
              "      <td>2008 Summer</td>\n",
              "      <td>2008</td>\n",
              "      <td>Summer</td>\n",
              "      <td>Beijing</td>\n",
              "      <td>Boxing</td>\n",
              "      <td>Boxing Men's Featherweight</td>\n",
              "      <td>NaN</td>\n",
              "      <td>Thailand</td>\n",
              "      <td>NaN</td>\n",
              "    </tr>\n",
              "    <tr>\n",
              "      <th>...</th>\n",
              "      <td>...</td>\n",
              "      <td>...</td>\n",
              "      <td>...</td>\n",
              "      <td>...</td>\n",
              "      <td>...</td>\n",
              "      <td>...</td>\n",
              "      <td>...</td>\n",
              "      <td>...</td>\n",
              "      <td>...</td>\n",
              "      <td>...</td>\n",
              "      <td>...</td>\n",
              "      <td>...</td>\n",
              "      <td>...</td>\n",
              "      <td>...</td>\n",
              "      <td>...</td>\n",
              "      <td>...</td>\n",
              "      <td>...</td>\n",
              "    </tr>\n",
              "    <tr>\n",
              "      <th>265774</th>\n",
              "      <td>132983</td>\n",
              "      <td>Phathanyu Yimsumruay</td>\n",
              "      <td>M</td>\n",
              "      <td>21.0</td>\n",
              "      <td>175.0</td>\n",
              "      <td>68.0</td>\n",
              "      <td>Thailand</td>\n",
              "      <td>THA</td>\n",
              "      <td>2000 Summer</td>\n",
              "      <td>2000</td>\n",
              "      <td>Summer</td>\n",
              "      <td>Sydney</td>\n",
              "      <td>Swimming</td>\n",
              "      <td>Swimming Men's 200 metres Individual Medley</td>\n",
              "      <td>NaN</td>\n",
              "      <td>Thailand</td>\n",
              "      <td>NaN</td>\n",
              "    </tr>\n",
              "    <tr>\n",
              "      <th>265933</th>\n",
              "      <td>133054</td>\n",
              "      <td>Supatra Yompakdee</td>\n",
              "      <td>F</td>\n",
              "      <td>30.0</td>\n",
              "      <td>160.0</td>\n",
              "      <td>85.0</td>\n",
              "      <td>Thailand</td>\n",
              "      <td>THA</td>\n",
              "      <td>1992 Summer</td>\n",
              "      <td>1992</td>\n",
              "      <td>Summer</td>\n",
              "      <td>Barcelona</td>\n",
              "      <td>Judo</td>\n",
              "      <td>Judo Women's Heavyweight</td>\n",
              "      <td>NaN</td>\n",
              "      <td>Thailand</td>\n",
              "      <td>NaN</td>\n",
              "    </tr>\n",
              "    <tr>\n",
              "      <th>266731</th>\n",
              "      <td>133436</td>\n",
              "      <td>Amorn Yuktanandana</td>\n",
              "      <td>M</td>\n",
              "      <td>32.0</td>\n",
              "      <td>173.0</td>\n",
              "      <td>70.0</td>\n",
              "      <td>Thailand</td>\n",
              "      <td>THA</td>\n",
              "      <td>1960 Summer</td>\n",
              "      <td>1960</td>\n",
              "      <td>Summer</td>\n",
              "      <td>Roma</td>\n",
              "      <td>Shooting</td>\n",
              "      <td>Shooting Men's Free Pistol, 50 metres</td>\n",
              "      <td>NaN</td>\n",
              "      <td>Thailand</td>\n",
              "      <td>NaN</td>\n",
              "    </tr>\n",
              "    <tr>\n",
              "      <th>266732</th>\n",
              "      <td>133436</td>\n",
              "      <td>Amorn Yuktanandana</td>\n",
              "      <td>M</td>\n",
              "      <td>36.0</td>\n",
              "      <td>173.0</td>\n",
              "      <td>70.0</td>\n",
              "      <td>Thailand</td>\n",
              "      <td>THA</td>\n",
              "      <td>1964 Summer</td>\n",
              "      <td>1964</td>\n",
              "      <td>Summer</td>\n",
              "      <td>Tokyo</td>\n",
              "      <td>Shooting</td>\n",
              "      <td>Shooting Men's Free Pistol, 50 metres</td>\n",
              "      <td>NaN</td>\n",
              "      <td>Thailand</td>\n",
              "      <td>NaN</td>\n",
              "    </tr>\n",
              "    <tr>\n",
              "      <th>266733</th>\n",
              "      <td>133436</td>\n",
              "      <td>Amorn Yuktanandana</td>\n",
              "      <td>M</td>\n",
              "      <td>40.0</td>\n",
              "      <td>173.0</td>\n",
              "      <td>70.0</td>\n",
              "      <td>Thailand</td>\n",
              "      <td>THA</td>\n",
              "      <td>1968 Summer</td>\n",
              "      <td>1968</td>\n",
              "      <td>Summer</td>\n",
              "      <td>Mexico City</td>\n",
              "      <td>Shooting</td>\n",
              "      <td>Shooting Mixed Free Pistol, 50 metres</td>\n",
              "      <td>NaN</td>\n",
              "      <td>Thailand</td>\n",
              "      <td>NaN</td>\n",
              "    </tr>\n",
              "  </tbody>\n",
              "</table>\n",
              "<p>747 rows × 17 columns</p>\n",
              "</div>"
            ],
            "text/plain": [
              "            ID                  Name Sex  ...  Medal    region  notes\n",
              "2680      1494   Mongkol Aimmanolrom   M  ...    NaN  Thailand    NaN\n",
              "5817      3276   Ampol Amaluktipituk   M  ...    NaN  Thailand    NaN\n",
              "6154      3463    Savitree Amitrapai   F  ...    NaN  Thailand    NaN\n",
              "8533      4691  Kiradech Aphibarnrat   M  ...    NaN  Thailand    NaN\n",
              "8994      4947            Sailom Ard   M  ...    NaN  Thailand    NaN\n",
              "...        ...                   ...  ..  ...    ...       ...    ...\n",
              "265774  132983  Phathanyu Yimsumruay   M  ...    NaN  Thailand    NaN\n",
              "265933  133054     Supatra Yompakdee   F  ...    NaN  Thailand    NaN\n",
              "266731  133436    Amorn Yuktanandana   M  ...    NaN  Thailand    NaN\n",
              "266732  133436    Amorn Yuktanandana   M  ...    NaN  Thailand    NaN\n",
              "266733  133436    Amorn Yuktanandana   M  ...    NaN  Thailand    NaN\n",
              "\n",
              "[747 rows x 17 columns]"
            ]
          },
          "metadata": {
            "tags": []
          },
          "execution_count": 53
        }
      ]
    },
    {
      "cell_type": "markdown",
      "metadata": {
        "id": "Ayl4X9sdNPLr",
        "colab_type": "text"
      },
      "source": [
        "**มีนักกีฬาไทยที่ไปแข่งกีฬาโอลิมปิกทั้งหมด**"
      ]
    },
    {
      "cell_type": "code",
      "metadata": {
        "id": "Ls_fXpK8M5bS",
        "colab_type": "code",
        "colab": {
          "base_uri": "https://localhost:8080/",
          "height": 34
        },
        "outputId": "6cdb8b93-6639-4dd3-d513-6179b2c0ed1c"
      },
      "source": [
        "MedalsTHA.Name.count()"
      ],
      "execution_count": 55,
      "outputs": [
        {
          "output_type": "execute_result",
          "data": {
            "text/plain": [
              "747"
            ]
          },
          "metadata": {
            "tags": []
          },
          "execution_count": 55
        }
      ]
    },
    {
      "cell_type": "markdown",
      "metadata": {
        "id": "7HmG3WTwJ8Of",
        "colab_type": "text"
      },
      "source": [
        "**การเข้าร่วมในกีฬาประเภทต่างๆของประเทศไมยในโอลิมปิก**"
      ]
    },
    {
      "cell_type": "code",
      "metadata": {
        "id": "NSIW5YEeHB22",
        "colab_type": "code",
        "colab": {
          "base_uri": "https://localhost:8080/",
          "height": 867
        },
        "outputId": "d23c6e0d-a0e0-4e93-9835-c20cfcb4adab"
      },
      "source": [
        "import numpy as np \n",
        "import pandas as pd\n",
        "import matplotlib.pyplot as plt\n",
        "import seaborn as sns\n",
        "import squarify \n",
        "%matplotlib inline\n",
        "\n",
        "tha_sport = data[data['Team']=='Thailand']['Sport'].value_counts().head(30)\n",
        "plt.figure(figsize=(20,15))\n",
        "g = squarify.plot(sizes=tha_sport.values, label=tha_sport.index, \n",
        "                  value=tha_sport.values,\n",
        "                  alpha=.4,color=[\"red\",\"green\",\"blue\", \"grey\"])\n",
        "g.set_title(\"Thailand Participation in Various Sports\",fontsize=20)\n",
        "g.set_axis_off()\n",
        "plt.show()"
      ],
      "execution_count": 47,
      "outputs": [
        {
          "output_type": "display_data",
          "data": {
            "image/png": "[encoded data removed]",
            "text/plain": [
              "<Figure size 1440x1080 with 1 Axes>"
            ]
          },
          "metadata": {
            "tags": [],
            "needs_background": "light"
          }
        }
      ]
    }
  ]
}